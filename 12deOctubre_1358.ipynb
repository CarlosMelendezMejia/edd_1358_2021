{
  "nbformat": 4,
  "nbformat_minor": 0,
  "metadata": {
    "colab": {
      "name": "12deOctubre_1358.ipynb",
      "provenance": [],
      "authorship_tag": "ABX9TyP3SU9UthABIzBl/C/4qHuq",
      "include_colab_link": true
    },
    "kernelspec": {
      "name": "python3",
      "display_name": "Python 3"
    }
  },
  "cells": [
    {
      "cell_type": "markdown",
      "metadata": {
        "id": "view-in-github",
        "colab_type": "text"
      },
      "source": [
        "<a href=\"https://colab.research.google.com/github/CarlosMelendezMejia/edd_1358_2021/blob/master/12deOctubre_1358.ipynb\" target=\"_parent\"><img src=\"https://colab.research.google.com/assets/colab-badge.svg\" alt=\"Open In Colab\"/></a>"
      ]
    },
    {
      "cell_type": "markdown",
      "metadata": {
        "id": "8C0Gvhs2WKeD"
      },
      "source": [
        "#Diccionarios continuación"
      ]
    },
    {
      "cell_type": "code",
      "metadata": {
        "id": "Gzjj_wzLVcgP",
        "outputId": "e7b1d1d6-bc16-4f3e-be64-5b15e8603c12",
        "colab": {
          "base_uri": "https://localhost:8080/",
          "height": 394
        }
      },
      "source": [
        "#Diccionario con listas y tuplas anidados\n",
        "\n",
        "cliente  = { \"id\":1,\n",
        "            \"nombres\":[\"Juan\",\"Antonio\"],\n",
        "            \"paterno\":\"Garcia\",\n",
        "            \"materno\":\"Perez\",\n",
        "            \"telefonos\":{\n",
        "                          \"casa\":5566778899,\n",
        "                         \"celular\":5544332211,\n",
        "                         \"trabajo\":5566332211},\n",
        "            \"activo\":True,\n",
        "            \"balance\":234567.89,\n",
        "            \"tarjetas\":({\"tipo\":\"debito\",\"saldo\":12000},\n",
        "                        {\"tipo\":\"credito\",\"saldo\":3500.0})\n",
        "            }\n",
        "\n",
        "#Los diccionarios son mutables\n",
        "\n",
        "print(cliente)\n",
        "\n",
        "#cliente[\"balance\"] =  cliente[\"balance\"] - 1000.89\n",
        "\n",
        "cliente[\"balance\"] -= 1000.89  \n",
        "print(cliente)\n",
        "\n",
        "#Las tuplas no se pueden modificar, pero si reemplazarla con una nueva\n",
        "\n",
        "cliente[\"tarjetas\"]= ({\"tipo\":\"debito\",\"saldo\":12000},\n",
        "                        {\"tipo\":\"credito\",\"saldo\":3500.0},\n",
        "                      {\"tipo\":\"credito\",\"nivel\":\"oro\",\"saldo\":50000.0})\n",
        "cliente[\"direccion\"]={\"calle\":\"rancho seco\",\"num\":23}\n",
        "print(cliente)\n",
        "\n",
        "\n",
        "cliente.pop(\"tarjetas\")\n",
        "print(cliente)\n",
        "\n"
      ],
      "execution_count": 24,
      "outputs": [
        {
          "output_type": "stream",
          "text": [
            "{'id': 1, 'nombres': ['Juan', 'Antonio'], 'paterno': 'Garcia', 'materno': 'Perez', 'telefonos': {'casa': 5566778899, 'celular': 5544332211, 'trabajo': 5566332211}, 'activo': True, 'balance': 234567.89, 'tarjetas': ({'tipo': 'debito', 'saldo': 12000}, {'tipo': 'credito', 'saldo': 3500.0})}\n",
            "{'id': 1, 'nombres': ['Juan', 'Antonio'], 'paterno': 'Garcia', 'materno': 'Perez', 'telefonos': {'casa': 5566778899, 'celular': 5544332211, 'trabajo': 5566332211}, 'activo': True, 'balance': 233567.0, 'tarjetas': ({'tipo': 'debito', 'saldo': 12000}, {'tipo': 'credito', 'saldo': 3500.0})}\n",
            "{'id': 1, 'nombres': ['Juan', 'Antonio'], 'paterno': 'Garcia', 'materno': 'Perez', 'telefonos': {'casa': 5566778899, 'celular': 5544332211, 'trabajo': 5566332211}, 'activo': True, 'balance': 233567.0, 'tarjetas': ({'tipo': 'debito', 'saldo': 12000}, {'tipo': 'credito', 'saldo': 3500.0}, {'tipo': 'credito', 'nivel': 'oro', 'saldo': 50000.0}), 'direccion': {'calle': 'rancho seco', 'num': 23}}\n",
            "{'id': 1, 'nombres': ['Juan', 'Antonio'], 'paterno': 'Garcia', 'materno': 'Perez', 'telefonos': {'casa': 5566778899, 'celular': 5544332211, 'trabajo': 5566332211}, 'activo': True, 'balance': 233567.0, 'direccion': {'calle': 'rancho seco', 'num': 23}}\n",
            "dict_keys(['id', 'nombres', 'paterno', 'materno', 'telefonos', 'activo', 'balance', 'direccion'])\n",
            "id\n",
            "nombres\n",
            "paterno\n",
            "materno\n",
            "telefonos\n",
            "activo\n",
            "balance\n",
            "direccion\n",
            "1\n",
            "['Juan', 'Antonio']\n",
            "Garcia\n",
            "Perez\n",
            "{'casa': 5566778899, 'celular': 5544332211, 'trabajo': 5566332211}\n",
            "True\n",
            "233567.0\n",
            "{'calle': 'rancho seco', 'num': 23}\n"
          ],
          "name": "stdout"
        }
      ]
    },
    {
      "cell_type": "markdown",
      "metadata": {
        "id": "nXaW9jHJgpwg"
      },
      "source": [
        "#Keys, Values e Items"
      ]
    },
    {
      "cell_type": "code",
      "metadata": {
        "id": "WcP_r-55fHKu",
        "outputId": "51645757-c1bf-4b41-c4b4-69d9c3cf68c7",
        "colab": {
          "base_uri": "https://localhost:8080/",
          "height": 479
        }
      },
      "source": [
        "#llaves de diccionarios\n",
        "\n",
        "llaves = cliente.keys()\n",
        "print(llaves)\n",
        "\n",
        "for x in llaves:\n",
        "  print(x)\n",
        "\n",
        "#valores de diccionarios\n",
        "\n",
        "valores = cliente.values()\n",
        "for v in valores:\n",
        "  print(v)\n",
        "\n",
        "#Pares, llave y valor\n",
        "pares = cliente.items()\n",
        "print(pares)\n",
        "\n",
        "for elem in pares:\n",
        "  print(f\"  {elem[0]} = {elem[1]}\")"
      ],
      "execution_count": 27,
      "outputs": [
        {
          "output_type": "stream",
          "text": [
            "dict_keys(['id', 'nombres', 'paterno', 'materno', 'telefonos', 'activo', 'balance', 'direccion'])\n",
            "id\n",
            "nombres\n",
            "paterno\n",
            "materno\n",
            "telefonos\n",
            "activo\n",
            "balance\n",
            "direccion\n",
            "1\n",
            "['Juan', 'Antonio']\n",
            "Garcia\n",
            "Perez\n",
            "{'casa': 5566778899, 'celular': 5544332211, 'trabajo': 5566332211}\n",
            "True\n",
            "233567.0\n",
            "{'calle': 'rancho seco', 'num': 23}\n",
            "dict_items([('id', 1), ('nombres', ['Juan', 'Antonio']), ('paterno', 'Garcia'), ('materno', 'Perez'), ('telefonos', {'casa': 5566778899, 'celular': 5544332211, 'trabajo': 5566332211}), ('activo', True), ('balance', 233567.0), ('direccion', {'calle': 'rancho seco', 'num': 23})])\n",
            "  id = 1\n",
            "  nombres = ['Juan', 'Antonio']\n",
            "  paterno = Garcia\n",
            "  materno = Perez\n",
            "  telefonos = {'casa': 5566778899, 'celular': 5544332211, 'trabajo': 5566332211}\n",
            "  activo = True\n",
            "  balance = 233567.0\n",
            "  direccion = {'calle': 'rancho seco', 'num': 23}\n"
          ],
          "name": "stdout"
        }
      ]
    },
    {
      "cell_type": "code",
      "metadata": {
        "id": "gpZiqKCIhDo0",
        "outputId": "90c55a93-1676-4ae9-e8aa-048b5350d2c3",
        "colab": {
          "base_uri": "https://localhost:8080/",
          "height": 51
        }
      },
      "source": [
        "#Como anexar diccionarios a otros diccionarios\n",
        "\n",
        "fruta = {\"nombre\":\"manzana\",\"color\":\"rojo\",\"estado\":\"chihuahua\"}\n",
        "otras_caracteristicas={\"vitamina\":\"D\"}\n",
        "print(fruta)\n",
        "fruta.update(otras_caracteristicas)\n",
        "print(fruta)"
      ],
      "execution_count": 32,
      "outputs": [
        {
          "output_type": "stream",
          "text": [
            "{'nombre': 'manzana', 'color': 'rojo', 'estado': 'chihuahua'}\n",
            "{'nombre': 'manzana', 'color': 'rojo', 'estado': 'chihuahua', 'vitamina': 'D'}\n"
          ],
          "name": "stdout"
        }
      ]
    },
    {
      "cell_type": "markdown",
      "metadata": {
        "id": "ZqgJSNMaiW7u"
      },
      "source": [
        "#Funciones\n",
        "Unidad de codigo que pueden ser llamados cuantas veces se necesite\n",
        "\n",
        "- Recibe de 0 a n argumentos de entrada\n",
        "\n",
        "- Regresa solo un valor, aunque ese valor sea None (Nulo)\n",
        "\n",
        "- Tiene un nombre unico en el contexto\n",
        "\n",
        "- Se puede definir y se puede llamar"
      ]
    },
    {
      "cell_type": "code",
      "metadata": {
        "id": "37mdP-EZjDPJ",
        "outputId": "0559678f-72b5-4e74-d255-9b86fc2e5e0c",
        "colab": {
          "base_uri": "https://localhost:8080/",
          "height": 51
        }
      },
      "source": [
        "def suma(a,b):\n",
        "  return a+b \n",
        "\n",
        "\"\"\"def suma(x,y):\n",
        "  return None\"\"\"\n",
        "\n",
        "def saludar():\n",
        "  print(\"Hola, como estas?\")\n",
        "  return None\n",
        "\n",
        "x = 10\n",
        "y = 20\n",
        "c = suma(x,y)\n",
        "\n",
        "print(c)\n",
        "saludar()"
      ],
      "execution_count": 39,
      "outputs": [
        {
          "output_type": "stream",
          "text": [
            "30\n",
            "Hola, como estas?\n"
          ],
          "name": "stdout"
        }
      ]
    },
    {
      "cell_type": "markdown",
      "metadata": {
        "id": "t4rHktPlk0PJ"
      },
      "source": [
        "#None y las funciones\n",
        "\n",
        "Aprovechar el uso de none en paso de parametros"
      ]
    },
    {
      "cell_type": "code",
      "metadata": {
        "id": "YIMOD48Zk8df",
        "outputId": "b2f9271f-de25-4eae-e78b-2ea13d329c49",
        "colab": {
          "base_uri": "https://localhost:8080/",
          "height": 51
        }
      },
      "source": [
        "#No puedes operar un None\n",
        "def calcular(base,veces):\n",
        "  if base != None and veces != None:\n",
        "    resultado = base * veces\n",
        "  else:\n",
        "    resultado=\"desconocido\"\n",
        "  return resultado\n",
        "\n",
        "print(calcular(4,3))\n",
        "print(calcular(None,3))"
      ],
      "execution_count": 42,
      "outputs": [
        {
          "output_type": "stream",
          "text": [
            "12\n",
            "desconocido\n"
          ],
          "name": "stdout"
        }
      ]
    }
  ]
}