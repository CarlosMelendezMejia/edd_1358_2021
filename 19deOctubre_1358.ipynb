{
  "nbformat": 4,
  "nbformat_minor": 0,
  "metadata": {
    "colab": {
      "name": "19deOctubre_1358.ipynb",
      "provenance": [],
      "authorship_tag": "ABX9TyMYB17ZC+f6bxfmlu/bgva9",
      "include_colab_link": true
    },
    "kernelspec": {
      "name": "python3",
      "display_name": "Python 3"
    }
  },
  "cells": [
    {
      "cell_type": "markdown",
      "metadata": {
        "id": "view-in-github",
        "colab_type": "text"
      },
      "source": [
        "<a href=\"https://colab.research.google.com/github/CarlosMelendezMejia/edd_1358_2021/blob/master/19deOctubre_1358.ipynb\" target=\"_parent\"><img src=\"https://colab.research.google.com/assets/colab-badge.svg\" alt=\"Open In Colab\"/></a>"
      ]
    },
    {
      "cell_type": "markdown",
      "metadata": {
        "id": "ohM9SBJMbv2u"
      },
      "source": [
        "#Continuacion archivos"
      ]
    },
    {
      "cell_type": "code",
      "metadata": {
        "id": "ouE4hCF2Z54t",
        "outputId": "38048e19-654a-4432-cf4d-f74c98471f2a",
        "colab": {
          "base_uri": "https://localhost:8080/",
          "height": 85
        }
      },
      "source": [
        "# funcion read()\n",
        "archivo = open('frutas.txt','rt')#segundo argumento tipo de apertura y formato\n",
        "\n",
        "data = archivo.read()\n",
        "print(data)\n",
        "\n",
        "archivo.close()\n"
      ],
      "execution_count": 23,
      "outputs": [
        {
          "output_type": "stream",
          "text": [
            "limon, aguacate, fresa, manzana,\n",
            "ciruela, capulin, naranja,\n",
            "pera, kiwi\n",
            "\n"
          ],
          "name": "stdout"
        }
      ]
    },
    {
      "cell_type": "code",
      "metadata": {
        "id": "K6mAnl1Qd_-6",
        "outputId": "b4b84f83-98be-4022-d8b9-dbf27c2a9f2c",
        "colab": {
          "base_uri": "https://localhost:8080/",
          "height": 119
        }
      },
      "source": [
        "# funcion readline() lee linea por linea\n",
        "archivo = open('frutas.txt','rt')\n",
        "data = archivo.readline()\n",
        "#lee linea por linea y va moviendo el fichero\n",
        "while data!=\"\":\n",
        "  print(data)\n",
        "  data = archivo.readline()\n",
        "\n",
        "archivo.close()"
      ],
      "execution_count": 24,
      "outputs": [
        {
          "output_type": "stream",
          "text": [
            "limon, aguacate, fresa, manzana,\n",
            "\n",
            "ciruela, capulin, naranja,\n",
            "\n",
            "pera, kiwi\n",
            "\n"
          ],
          "name": "stdout"
        }
      ]
    },
    {
      "cell_type": "code",
      "metadata": {
        "id": "bil69GnDgG-h",
        "outputId": "4ac91b7c-6dc6-432e-b435-772ef2fd82f1",
        "colab": {
          "base_uri": "https://localhost:8080/",
          "height": 68
        }
      },
      "source": [
        "#funcion readlines()\n",
        "\n",
        "archivo = open('frutas.txt','rt')\n",
        "\n",
        "data = archivo.readlines()\n",
        "print(data)\n",
        "\n",
        "frutas=[]\n",
        "\n",
        "#quitar tabulador\n",
        "\n",
        "for linea in data:\n",
        "  frutas.append(linea.strip())\n",
        "print(frutas)\n",
        "\n",
        "frutas_final=[]\n",
        "for elem in frutas:\n",
        "  for fruta in elem.split(','):\n",
        "    frutas_final.append(fruta.strip())\n",
        "\n",
        "\n",
        "print(frutas_final)\n",
        "archivo.close()"
      ],
      "execution_count": 32,
      "outputs": [
        {
          "output_type": "stream",
          "text": [
            "['limon, aguacate, fresa, manzana\\n', 'ciruela, capulin, naranja\\n', 'pera, kiwi\\n']\n",
            "['limon, aguacate, fresa, manzana', 'ciruela, capulin, naranja', 'pera, kiwi']\n",
            "['limon', 'aguacate', 'fresa', 'manzana', 'ciruela', 'capulin', 'naranja', 'pera', 'kiwi']\n"
          ],
          "name": "stdout"
        }
      ]
    },
    {
      "cell_type": "markdown",
      "metadata": {
        "id": "nK7XDIVolEsP"
      },
      "source": [
        "#POO con python\n",
        "- clase\n",
        "- objetos\n",
        "- atributos\n",
        "- metodos\n",
        "- metodo constructor\n",
        "- encapsulamiento (publico y privado)\n",
        "- herencia\n",
        "\n",
        "Para crear clases en python se usa la palabra reservada Class\n",
        "\n",
        "Para declarar un constructor se usa la sintxis def __ init __(self)"
      ]
    },
    {
      "cell_type": "code",
      "metadata": {
        "id": "UDn1WcaRlqs7",
        "outputId": "28576a2f-a3e9-4524-bada-d6c949507d9c",
        "colab": {
          "base_uri": "https://localhost:8080/",
          "height": 34
        }
      },
      "source": [
        "#clase\n",
        "class Persona:\n",
        "  #constructor\n",
        "  def __init__(self, edd, est):#self se refiere al objeto especifico que esta llamando a llamar a la funcion\n",
        "    self.__edad = edd #Encapsulamiento\n",
        "    self.__estatura = est\n",
        "  #metodo\n",
        "  def to_string(self):\n",
        "    print(f\"Edad= {self.__edad}, est= {self.__estatura}\")\n",
        "\n",
        "#objeto\n",
        "per1 = Persona(23,1.78)\n",
        "per1.to_string()"
      ],
      "execution_count": 38,
      "outputs": [
        {
          "output_type": "stream",
          "text": [
            "Edad= 23, est= 1.78\n"
          ],
          "name": "stdout"
        }
      ]
    }
  ]
}