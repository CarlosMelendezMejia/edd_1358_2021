{
  "nbformat": 4,
  "nbformat_minor": 0,
  "metadata": {
    "colab": {
      "name": "Tarea_7_1358.ipynb",
      "provenance": [],
      "authorship_tag": "ABX9TyOTSwk1UzSR7yVbFsVKc5zf",
      "include_colab_link": true
    },
    "kernelspec": {
      "name": "python3",
      "display_name": "Python 3"
    }
  },
  "cells": [
    {
      "cell_type": "markdown",
      "metadata": {
        "id": "view-in-github",
        "colab_type": "text"
      },
      "source": [
        "<a href=\"https://colab.research.google.com/github/CarlosMelendezMejia/edd_1358_2021/blob/master/Tarea_7_1358.ipynb\" target=\"_parent\"><img src=\"https://colab.research.google.com/assets/colab-badge.svg\" alt=\"Open In Colab\"/></a>"
      ]
    },
    {
      "cell_type": "code",
      "metadata": {
        "colab": {
          "base_uri": "https://localhost:8080/"
        },
        "id": "GGbt-bAacKiN",
        "outputId": "60630119-e3da-4afa-84af-ae05d8807168"
      },
      "source": [
        "class Stack:\n",
        "    def __init__(self):\n",
        "        self.__data = []\n",
        "        self.__size = 0\n",
        "\n",
        "    def pop(self):\n",
        "        return self.__data.pop()\n",
        "\n",
        "    def get_size(self):\n",
        "        return self.__size\n",
        "\n",
        "    def peak(self):\n",
        "        if len(self.__data) > 0:\n",
        "            return self.__data[-1]\n",
        "        else:\n",
        "            return None\n",
        "\n",
        "    def push(self,value):\n",
        "        self.__data.append(value)\n",
        "        self.__size += 1\n",
        "\n",
        "    def to_string(self):\n",
        "        print(\"-\"*6)\n",
        "        for dato in self.__data[::-1]:\n",
        "            print(f\"| {dato} |\")\n",
        "            print(\"-\" * 6)\n",
        "        print(\"\")\n",
        "\n",
        "#Aplicaciones de la estructura stack\n",
        "#1. Validacion de parentesis balanceados ( ,{ y [\n",
        "\n",
        "b = \"3*(5+(4/2)))\"\n",
        "\n",
        "pila = Stack()\n",
        "pila.push('#') #Caracter de pila vacia\n",
        "\n",
        "\n",
        "for elem in b:\n",
        "    if elem == '(':\n",
        "        pila.push(\"*\")\n",
        "\n",
        "    elif elem == ')' :\n",
        "        pila.pop()\n",
        "\n",
        "if pila.peak() == \"#\":\n",
        "    print(\"La expresion esta balanceada en parentesis\")\n",
        "else:\n",
        "    print(\"La expresion no esta balanceada en parentesis\")"
      ],
      "execution_count": 4,
      "outputs": [
        {
          "output_type": "stream",
          "text": [
            "La expresion no esta balanceada en parentesis\n"
          ],
          "name": "stdout"
        }
      ]
    }
  ]
}