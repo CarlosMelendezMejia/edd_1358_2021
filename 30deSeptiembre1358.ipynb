{
  "nbformat": 4,
  "nbformat_minor": 0,
  "metadata": {
    "colab": {
      "name": "30deSeptiembre1358.ipynb",
      "provenance": [],
      "authorship_tag": "ABX9TyMTCikiDyA39Y5r/hEXhQED",
      "include_colab_link": true
    },
    "kernelspec": {
      "name": "python3",
      "display_name": "Python 3"
    }
  },
  "cells": [
    {
      "cell_type": "markdown",
      "metadata": {
        "id": "view-in-github",
        "colab_type": "text"
      },
      "source": [
        "<a href=\"https://colab.research.google.com/github/CarlosMelendezMejia/edd_1358_2021/blob/master/30deSeptiembre1358.ipynb\" target=\"_parent\"><img src=\"https://colab.research.google.com/assets/colab-badge.svg\" alt=\"Open In Colab\"/></a>"
      ]
    },
    {
      "cell_type": "markdown",
      "metadata": {
        "id": "588Clc_RsjSa"
      },
      "source": [
        "#Fundamentos de Python 3\n",
        "variables dinamicas, no es necesario declarar el tipo de dato\n",
        "\n",
        "edad = 13\n",
        "\n",
        "nombre = \"Jose\"\n",
        "\n",
        "estatura = 1.67\n",
        "\n",
        "tiene_ine = True\n",
        "\n",
        "### **compuestos**\n",
        "\n",
        "### Listas\n",
        "Equivalente a los array, se declaran con corchetes cuadrados\n",
        "\n",
        "Son mutables, se accede a los elementos via index\n",
        "los elementos pueden ser de diferente tipo de dato\n",
        "\n",
        "lista_ejemplo = [\"manzana\",1.57,True]\n",
        "#### Tuplas\n",
        "Son inmutables, se accede a los elementos via index\n",
        "los elementos pueden ser de diferente tipo de dato\n",
        "Para hacer constantes\n",
        "tupla_ejemplo = (\"manzana\",1.57,True)\n",
        "#### Diccionarios\n",
        "Son equivalentes a los JSON de Js\n",
        "#### Sets\n",
        "Son datos agrupados"
      ]
    },
    {
      "cell_type": "code",
      "metadata": {
        "id": "PMA6BntJsciQ",
        "outputId": "c8e1ca0b-389d-466f-80be-ed0bda6b3859",
        "colab": {
          "base_uri": "https://localhost:8080/",
          "height": 187
        }
      },
      "source": [
        "lista_ejemplo = [\"manzana\",1.57,True,[\"ROJO\",\"AZUL\"]]\n",
        "print(lista_ejemplo[0])\n",
        "print(lista_ejemplo[1])\n",
        "print(lista_ejemplo[3][1])\n",
        "#Agregar un elemento al ultimo indice\n",
        "\n",
        "lista_ejemplo.append(\"Iphone\")\n",
        "print(lista_ejemplo)\n",
        "\n",
        "#sacar un elemento\n",
        "\n",
        "valor=lista_ejemplo.pop()\n",
        "print(valor)\n",
        "print(lista_ejemplo)\n",
        "\n",
        "#documentacion del tipo de dato lista dir y help()\n",
        "#Con guion bajos son privados\n",
        "print(\"-------------------------------------------------------------\")\n",
        "\n",
        "#Agregar un elemento en el indice indicado\n",
        "lista_ejemplo.insert(1,'Huawei')\n",
        "print(lista_ejemplo)\n",
        "\n",
        "#Contar cuantos datos de un valor hay\n",
        "conteo=lista_ejemplo.count(True)\n",
        "print(conteo)\n",
        "\n",
        "#Añadir lista a  otra como elemento\n",
        "colores = ['rosa','fiusca','negro']\n",
        "lista_ejemplo.append(colores)\n",
        "\n",
        "#Fusionar dos listas\n",
        "lista_ejemplo.extend(colores)\n",
        "print(lista_ejemplo)\n",
        "\n"
      ],
      "execution_count": 18,
      "outputs": [
        {
          "output_type": "stream",
          "text": [
            "manzana\n",
            "1.57\n",
            "AZUL\n",
            "['manzana', 1.57, True, ['ROJO', 'AZUL'], 'Iphone']\n",
            "Iphone\n",
            "['manzana', 1.57, True, ['ROJO', 'AZUL']]\n",
            "-------------------------------------------------------------\n",
            "['manzana', 'Huawei', 1.57, True, ['ROJO', 'AZUL']]\n",
            "1\n",
            "['manzana', 'Huawei', 1.57, True, ['ROJO', 'AZUL'], ['rosa', 'fiusca', 'negro'], 'rosa', 'fiusca', 'negro']\n"
          ],
          "name": "stdout"
        }
      ]
    }
  ]
}