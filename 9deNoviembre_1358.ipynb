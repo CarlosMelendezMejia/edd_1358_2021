{
  "nbformat": 4,
  "nbformat_minor": 0,
  "metadata": {
    "colab": {
      "name": "9deNoviembre_1358.ipynb",
      "provenance": [],
      "authorship_tag": "ABX9TyN2EtCF/Sq72bVdoLSgTlb1",
      "include_colab_link": true
    },
    "kernelspec": {
      "name": "python3",
      "display_name": "Python 3"
    }
  },
  "cells": [
    {
      "cell_type": "markdown",
      "metadata": {
        "id": "view-in-github",
        "colab_type": "text"
      },
      "source": [
        "<a href=\"https://colab.research.google.com/github/CarlosMelendezMejia/edd_1358_2021/blob/master/9deNoviembre_1358.ipynb\" target=\"_parent\"><img src=\"https://colab.research.google.com/assets/colab-badge.svg\" alt=\"Open In Colab\"/></a>"
      ]
    },
    {
      "cell_type": "code",
      "metadata": {
        "id": "NchJxYTk4Wvi",
        "outputId": "257a9b73-c17c-47a9-b644-d253dc27d794",
        "colab": {
          "base_uri": "https://localhost:8080/"
        }
      },
      "source": [
        "class nodo:\n",
        "\n",
        "    def __init__(self,dato):\n",
        "        self._dato= dato\n",
        "        self._siguiente = None\n",
        "    def get_dato(self):\n",
        "        return self._dato\n",
        "    def set_dato(self,d):\n",
        "        self._dato = d\n",
        "    def get_siguiente(self):\n",
        "        return self._siguiente\n",
        "    def set_siguiente(self,d):\n",
        "        self._siguiente = d\n",
        "    def show(self):\n",
        "        curr_node = self  # Head\n",
        "        print(\" Inicio de la estructura ligada:\")\n",
        "        print(\"|\" + str(curr_node.get_dato()) + \"| -->\", end=\"\")\n",
        "        while (curr_node.get_siguiente() != None):\n",
        "            curr_node = curr_node.get_siguiente()\n",
        "            print(\"|\" + str(curr_node.get_dato()) + \"| -->\", end=\"\")\n",
        "        print(\"\\nFin\")\n",
        "\n",
        "#ejemplo1\n",
        "a = nodo(10)\n",
        "a.show()\n",
        "\n",
        "#ejemplo2\n",
        "a.set_siguiente(nodo(20))\n",
        "a.show()\n"
      ],
      "execution_count": 2,
      "outputs": [
        {
          "output_type": "stream",
          "text": [
            " Inicio de la estructura ligada:\n",
            "|10| -->\n",
            "Fin\n",
            " Inicio de la estructura ligada:\n",
            "|10| -->|20| -->\n",
            "Fin\n"
          ],
          "name": "stdout"
        }
      ]
    }
  ]
}