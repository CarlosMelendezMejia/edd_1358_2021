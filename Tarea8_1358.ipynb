{
  "nbformat": 4,
  "nbformat_minor": 0,
  "metadata": {
    "colab": {
      "name": "Tarea8_1358.ipynb",
      "provenance": [],
      "authorship_tag": "ABX9TyNA4a6r6cWJGGS78CHmq63H",
      "include_colab_link": true
    },
    "kernelspec": {
      "name": "python3",
      "display_name": "Python 3"
    }
  },
  "cells": [
    {
      "cell_type": "markdown",
      "metadata": {
        "id": "view-in-github",
        "colab_type": "text"
      },
      "source": [
        "<a href=\"https://colab.research.google.com/github/CarlosMelendezMejia/edd_1358_2021/blob/master/Tarea8_1358.ipynb\" target=\"_parent\"><img src=\"https://colab.research.google.com/assets/colab-badge.svg\" alt=\"Open In Colab\"/></a>"
      ]
    },
    {
      "cell_type": "code",
      "metadata": {
        "id": "HZSIJZ0O88RA"
      },
      "source": [
        "class PriorityQueue:\n",
        "    def __init__(self):\n",
        "        self.__data = list()\n",
        "\n",
        "    def is_empty(self):\n",
        "        return len(self.__data) == 0\n",
        "\n",
        "    def length(self):\n",
        "        return len(self.__data)\n",
        "\n",
        "    def enqueue(self, item,prioridad):\n",
        "        tupla_nueva = (item, prioridad)\n",
        "        lista_base = self.__data\n",
        "        if self.is_empty():\n",
        "            self.__data.append(tupla_nueva)\n",
        "        else:\n",
        "            for pos in range(len(lista_base)):\n",
        "                if pos != len(self.__data)-1:\n",
        "                    if prioridad == self.__data[pos][1]:\n",
        "                        if self.__data[pos][1] == self.__data[pos+1][1]:\n",
        "                            pass\n",
        "                        else:\n",
        "                            self.__data.insert(pos+1,tupla_nueva)\n",
        "                            break\n",
        "                    elif prioridad < self.__data[pos][1]:\n",
        "                        lista_nueva = [tupla_nueva]\n",
        "                        self.__data = lista_nueva + self.__data\n",
        "                        break\n",
        "                else:\n",
        "                    if prioridad >= self.__data[pos][1]:\n",
        "                        self.__data.append(tupla_nueva)\n",
        "                    elif prioridad < self.__data[pos][1]:\n",
        "                        lista_nueva = [tupla_nueva]\n",
        "                        self.__data = lista_nueva + self.__data\n",
        "                        break\n",
        "\n",
        "    def dequeue(self):\n",
        "        if not self.is_empty():\n",
        "            return self.__data.pop(0)\n",
        "        else:\n",
        "            return None\n",
        "\n",
        "    def to_string(self):\n",
        "        cadena = \"\"\n",
        "        for elem in self.__data:\n",
        "            cadena = cadena + \"| \" + str(elem[0]) + \", Prioridad: \" + str(elem[1])\n",
        "        cadena = cadena + \" |\"\n",
        "        print(cadena)\n"
      ],
      "execution_count": 1,
      "outputs": []
    },
    {
      "cell_type": "code",
      "metadata": {
        "colab": {
          "base_uri": "https://localhost:8080/"
        },
        "id": "k0ypHbYJ8_F4",
        "outputId": "8983bf0e-a8b5-4996-e596-7134a4517397"
      },
      "source": [
        "pq = PriorityQueue()\n",
        "\n",
        "pq.enqueue(\"Carlos\",2)\n",
        "pq.to_string()\n",
        "\n",
        "pq.enqueue(\"Jorge\",1)\n",
        "pq.to_string()\n",
        "\n",
        "pq.enqueue(\"Luis\",2)\n",
        "pq.to_string()\n",
        "\n",
        "pq.enqueue(\"Mario\",2)\n",
        "pq.to_string()\n",
        "\n",
        "pq.enqueue(\"Mariano\",3)\n",
        "pq.to_string()\n",
        "\n",
        "pq.enqueue(\"Pepe\",1)\n",
        "pq.to_string()\n",
        "\n",
        "pq.enqueue(\"Susana\",2)\n",
        "pq.to_string()\n",
        "\n",
        "pq.enqueue(\"Susana\",4)\n",
        "pq.to_string()\n",
        "\n",
        "print(pq.dequeue())\n",
        "pq.to_string()\n",
        "\n",
        "print(pq.dequeue())\n",
        "pq.to_string()\n",
        "\n",
        "print(pq.dequeue())\n",
        "pq.to_string()"
      ],
      "execution_count": 2,
      "outputs": [
        {
          "output_type": "stream",
          "text": [
            "| Carlos, Prioridad: 2 |\n",
            "| Jorge, Prioridad: 1| Carlos, Prioridad: 2 |\n",
            "| Jorge, Prioridad: 1| Carlos, Prioridad: 2| Luis, Prioridad: 2 |\n",
            "| Jorge, Prioridad: 1| Carlos, Prioridad: 2| Luis, Prioridad: 2| Mario, Prioridad: 2 |\n",
            "| Jorge, Prioridad: 1| Carlos, Prioridad: 2| Luis, Prioridad: 2| Mario, Prioridad: 2| Mariano, Prioridad: 3 |\n",
            "| Jorge, Prioridad: 1| Pepe, Prioridad: 1| Carlos, Prioridad: 2| Luis, Prioridad: 2| Mario, Prioridad: 2| Mariano, Prioridad: 3 |\n",
            "| Jorge, Prioridad: 1| Pepe, Prioridad: 1| Carlos, Prioridad: 2| Luis, Prioridad: 2| Mario, Prioridad: 2| Susana, Prioridad: 2| Mariano, Prioridad: 3 |\n",
            "| Jorge, Prioridad: 1| Pepe, Prioridad: 1| Carlos, Prioridad: 2| Luis, Prioridad: 2| Mario, Prioridad: 2| Susana, Prioridad: 2| Mariano, Prioridad: 3| Susana, Prioridad: 4 |\n",
            "('Jorge', 1)\n",
            "| Pepe, Prioridad: 1| Carlos, Prioridad: 2| Luis, Prioridad: 2| Mario, Prioridad: 2| Susana, Prioridad: 2| Mariano, Prioridad: 3| Susana, Prioridad: 4 |\n",
            "('Pepe', 1)\n",
            "| Carlos, Prioridad: 2| Luis, Prioridad: 2| Mario, Prioridad: 2| Susana, Prioridad: 2| Mariano, Prioridad: 3| Susana, Prioridad: 4 |\n",
            "('Carlos', 2)\n",
            "| Luis, Prioridad: 2| Mario, Prioridad: 2| Susana, Prioridad: 2| Mariano, Prioridad: 3| Susana, Prioridad: 4 |\n"
          ],
          "name": "stdout"
        }
      ]
    }
  ]
}