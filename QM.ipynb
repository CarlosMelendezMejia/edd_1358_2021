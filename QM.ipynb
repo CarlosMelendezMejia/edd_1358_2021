{
  "nbformat": 4,
  "nbformat_minor": 0,
  "metadata": {
    "colab": {
      "name": "QM.ipynb",
      "provenance": [],
      "collapsed_sections": [],
      "include_colab_link": true
    },
    "kernelspec": {
      "name": "python3",
      "display_name": "Python 3"
    },
    "language_info": {
      "name": "python"
    }
  },
  "cells": [
    {
      "cell_type": "markdown",
      "metadata": {
        "id": "view-in-github",
        "colab_type": "text"
      },
      "source": [
        "<a href=\"https://colab.research.google.com/github/CarlosMelendezMejia/edd_1358_2021/blob/master/QM.ipynb\" target=\"_parent\"><img src=\"https://colab.research.google.com/assets/colab-badge.svg\" alt=\"Open In Colab\"/></a>"
      ]
    },
    {
      "cell_type": "code",
      "metadata": {
        "id": "k4rSkEC7HhXZ"
      },
      "source": [
        "def crearLista(var,*minterminos):\n",
        "    if (var <= 10 and var > 0) and len(minterminos) < 2**var:\n",
        "        pot = 2**var\n",
        "        l = []\n",
        "        cadena = \"\"\n",
        "        cont = 0\n",
        "        for i in range(0,pot):\n",
        "            l.append(bin(i)[2:len(bin(i))])\n",
        "        for j in range(len(l)):\n",
        "            if len(l[j]) != var:\n",
        "                for k in range(var - len(l[j])):\n",
        "                    cadena += \"0\"\n",
        "                cadena += l[j]\n",
        "                l[j] = cadena\n",
        "                cadena = \"\"  \n",
        "        for ii in range(len(l)):\n",
        "            l[ii] = ((\"m\"+str(cont),l[ii]))\n",
        "            cont += 1\n",
        "        if len(minterminos) == 0:\n",
        "            return l\n",
        "        else:\n",
        "            l_2 = []\n",
        "            for o in range(len(l)):\n",
        "                if o in minterminos:\n",
        "                    l_2.append(l[o])\n",
        "            return l_2\n",
        "    else:\n",
        "        return None\n",
        "\n",
        "def reducir(tuplaA, tuplaB):\n",
        "    minA = tuplaA[0]\n",
        "    minB = tuplaB[0]\n",
        "    numA = tuplaA[1]\n",
        "    numB = tuplaB[1]\n",
        "    val = len(tuplaA[1])\n",
        "    dif = 0\n",
        "    cadena = \"\"\n",
        "    for i in range(len(numA)):\n",
        "      if numA[i] == numB[i]:\n",
        "        cadena += numA[i]\n",
        "      elif (numA[i] == '0' and numB[i] == '1') or (numA[i] == '1' and numB[i] == '0'):\n",
        "        dif += 1\n",
        "        cadena += '#'\n",
        "      else:\n",
        "        pass\n",
        "    if len(cadena) == val and dif == 1:\n",
        "      return (minA+'_'+minB,cadena)\n",
        "    else:\n",
        "      return None\n",
        "\n",
        "\n",
        "def QuineMclausky(lista):\n",
        "  l_n = []\n",
        "  for minA in lista:\n",
        "    for minB in lista:\n",
        "      red = reducir(minA,minB)\n",
        "      l_n.append(red)\n",
        "  return eliminar_iguales(removeNone(l_n))\n",
        "\n",
        "def removeNone(lista):\n",
        "  l = []\n",
        "  for i in lista:\n",
        "    if type(i) != type(None):\n",
        "      l.append(i)\n",
        "  return l\n",
        "\n",
        "\n",
        "def eliminar_iguales(lista):\n",
        "  diccionario = {}\n",
        "  l_nueva = []\n",
        "  for i in lista:\n",
        "    try:\n",
        "      diccionario[i[1]] += [i[0]]\n",
        "    except:\n",
        "      diccionario[i[1]] = [i[0]]\n",
        "  for j in diccionario:\n",
        "    l_nueva.append((diccionario[str(j)][0],j))\n",
        "  return l_nueva\n",
        "\n",
        "def formato_csv(lista):\n",
        "  cadena = \"\"\n",
        "  l = []\n",
        "  for i in lista:\n",
        "      cadena += i[0]+\", \"\n",
        "      for j in i[1]:\n",
        "          cadena += j+\", \"\n",
        "      l.append(cadena)\n",
        "      cadena = \"\"\n",
        "  for k in l:\n",
        "      print(k[:-2])\n",
        "\n",
        "def operaciones(lista,n):\n",
        "  l = lista\n",
        "  for i in range(1,n+1):\n",
        "    l = QuineMclausky(l)\n",
        "  return l"
      ],
      "execution_count": null,
      "outputs": []
    },
    {
      "cell_type": "code",
      "metadata": {
        "id": "sIjJC2n-gV3r"
      },
      "source": [
        "def funcion(lista,entradas):\n",
        "  letras = ['A','B','C','D','E','F','G','H','I','J']\n",
        "  letras = letras[0:entradas]\n",
        "  op = \"\"\n",
        "  fun = \"\"\n",
        "  for i in lista:\n",
        "    num = i[1]\n",
        "    for j in range(len(num)):\n",
        "      if num[j] != '#':\n",
        "        if num[j] == '0':\n",
        "          #print(num[j],letras[j]+\"'\")\n",
        "          op += letras[j]+\"'\"\n",
        "        elif num[j] == '1':\n",
        "          #print(num[j],letras[j])\n",
        "          op += letras[j]\n",
        "    fun += op + \"+\"\n",
        "    op = \"\"\n",
        "  return fun[0:len(fun)-1]\n"
      ],
      "execution_count": null,
      "outputs": []
    },
    {
      "cell_type": "code",
      "metadata": {
        "colab": {
          "base_uri": "https://localhost:8080/"
        },
        "id": "CeKp0K4Q79hy",
        "outputId": "2487d66e-4844-43e5-91f1-6c7a62139d96"
      },
      "source": [
        "l = crearLista(4,0,2,3,5,6,7,8,10,11,12,13,14,15)\n",
        "#l = crearLista(4)\n",
        "formato_csv(l)"
      ],
      "execution_count": null,
      "outputs": [
        {
          "output_type": "stream",
          "name": "stdout",
          "text": [
            "m0, 0, 0, 0, 0\n",
            "m2, 0, 0, 1, 0\n",
            "m3, 0, 0, 1, 1\n",
            "m5, 0, 1, 0, 1\n",
            "m6, 0, 1, 1, 0\n",
            "m7, 0, 1, 1, 1\n",
            "m8, 1, 0, 0, 0\n",
            "m10, 1, 0, 1, 0\n",
            "m11, 1, 0, 1, 1\n",
            "m12, 1, 1, 0, 0\n",
            "m13, 1, 1, 0, 1\n",
            "m14, 1, 1, 1, 0\n",
            "m15, 1, 1, 1, 1\n"
          ]
        }
      ]
    },
    {
      "cell_type": "code",
      "metadata": {
        "colab": {
          "base_uri": "https://localhost:8080/"
        },
        "id": "XWJQhGrQ8ENH",
        "outputId": "27538956-85d9-4b40-d2ca-d92cf6974788"
      },
      "source": [
        "l2 = QuineMclausky(l)\n",
        "formato_csv(l2)\n",
        "print(funcion(l2,4))"
      ],
      "execution_count": null,
      "outputs": [
        {
          "output_type": "stream",
          "name": "stdout",
          "text": [
            "m0_m2, 0, 0, #, 0\n",
            "m0_m8, #, 0, 0, 0\n",
            "m2_m3, 0, 0, 1, #\n",
            "m2_m6, 0, #, 1, 0\n",
            "m2_m10, #, 0, 1, 0\n",
            "m3_m7, 0, #, 1, 1\n",
            "m3_m11, #, 0, 1, 1\n",
            "m5_m7, 0, 1, #, 1\n",
            "m5_m13, #, 1, 0, 1\n",
            "m6_m7, 0, 1, 1, #\n",
            "m6_m14, #, 1, 1, 0\n",
            "m7_m15, #, 1, 1, 1\n",
            "m8_m10, 1, 0, #, 0\n",
            "m8_m12, 1, #, 0, 0\n",
            "m10_m11, 1, 0, 1, #\n",
            "m10_m14, 1, #, 1, 0\n",
            "m11_m15, 1, #, 1, 1\n",
            "m12_m13, 1, 1, 0, #\n",
            "m12_m14, 1, 1, #, 0\n",
            "m13_m15, 1, 1, #, 1\n",
            "m14_m15, 1, 1, 1, #\n",
            "A'B'D'+B'C'D'+A'B'C+A'CD'+B'CD'+A'CD+B'CD+A'BD+BC'D+A'BC+BCD'+BCD+AB'D'+AC'D'+AB'C+ACD'+ACD+ABC'+ABD'+ABD+ABC\n"
          ]
        }
      ]
    },
    {
      "cell_type": "code",
      "metadata": {
        "colab": {
          "base_uri": "https://localhost:8080/"
        },
        "id": "GoCjAeU680Xn",
        "outputId": "c031354e-0743-400c-e8a6-d796e313db3e"
      },
      "source": [
        "l3 = QuineMclausky(l2)\n",
        "formato_csv(l3)\n",
        "print(funcion(l3,4))"
      ],
      "execution_count": null,
      "outputs": [
        {
          "output_type": "stream",
          "name": "stdout",
          "text": [
            "m0_m2_m8_m10, #, 0, #, 0\n",
            "m2_m3_m6_m7, 0, #, 1, #\n",
            "m2_m3_m10_m11, #, 0, 1, #\n",
            "m2_m6_m10_m14, #, #, 1, 0\n",
            "m3_m7_m11_m15, #, #, 1, 1\n",
            "m5_m7_m13_m15, #, 1, #, 1\n",
            "m6_m7_m14_m15, #, 1, 1, #\n",
            "m8_m10_m12_m14, 1, #, #, 0\n",
            "m10_m11_m14_m15, 1, #, 1, #\n",
            "m12_m13_m14_m15, 1, 1, #, #\n",
            "B'D'+A'C+B'C+CD'+CD+BD+BC+AD'+AC+AB\n"
          ]
        }
      ]
    },
    {
      "cell_type": "code",
      "metadata": {
        "colab": {
          "base_uri": "https://localhost:8080/"
        },
        "id": "ohkbqtIoFY-G",
        "outputId": "ff26f77d-9942-451d-bee6-c47273c6c0bb"
      },
      "source": [
        "l4 = QuineMclausky(l3)\n",
        "formato_csv(l4)\n",
        "print(funcion(l4,10))"
      ],
      "execution_count": null,
      "outputs": [
        {
          "output_type": "stream",
          "name": "stdout",
          "text": [
            "m2_m3_m6_m7_m10_m11_m14_m15, #, #, 1, #\n",
            "C\n"
          ]
        }
      ]
    },
    {
      "cell_type": "code",
      "metadata": {
        "id": "H72JB-c8_H2O"
      },
      "source": [
        "def contar(lista):\n",
        "  dic = {}\n",
        "  for i in lista:\n",
        "    lista_min = str(i[0]).split(\"_\")\n",
        "    print(lista_min)"
      ],
      "execution_count": null,
      "outputs": []
    },
    {
      "cell_type": "code",
      "metadata": {
        "colab": {
          "base_uri": "https://localhost:8080/"
        },
        "id": "slCt3jWhAVCF",
        "outputId": "bbecb1b4-6e12-4954-e100-9f9c90745655"
      },
      "source": [
        "contar(l3)"
      ],
      "execution_count": null,
      "outputs": [
        {
          "output_type": "stream",
          "name": "stdout",
          "text": [
            "['m0', 'm2', 'm8', 'm10']\n",
            "['m2', 'm3', 'm6', 'm7']\n",
            "['m2', 'm3', 'm10', 'm11']\n",
            "['m2', 'm6', 'm10', 'm14']\n",
            "['m3', 'm7', 'm11', 'm15']\n",
            "['m5', 'm7', 'm13', 'm15']\n",
            "['m6', 'm7', 'm14', 'm15']\n",
            "['m8', 'm10', 'm12', 'm14']\n",
            "['m10', 'm11', 'm14', 'm15']\n",
            "['m12', 'm13', 'm14', 'm15']\n"
          ]
        }
      ]
    },
    {
      "cell_type": "code",
      "metadata": {
        "colab": {
          "base_uri": "https://localhost:8080/"
        },
        "id": "htY--AdzgVXk",
        "outputId": "9e7a2cc3-39fa-451b-edf5-905ac35ceba2"
      },
      "source": [
        "l = crearLista(5,0,2, 3, 4, 7, 8, 11, 12, 14, 15, 16, 19, 20, 22, 23, 24, 25, 28, 29, 30)\n",
        "l2 = operaciones(l,2)\n",
        "formato_csv(l2)\n",
        "print(funcion(l2,5))\n"
      ],
      "execution_count": null,
      "outputs": [
        {
          "output_type": "stream",
          "name": "stdout",
          "text": [
            "m0_m4_m8_m12, 0, #, #, 0, 0\n",
            "m0_m4_m16_m20, #, 0, #, 0, 0\n",
            "m0_m8_m16_m24, #, #, 0, 0, 0\n",
            "m3_m7_m11_m15, 0, #, #, 1, 1\n",
            "m3_m7_m19_m23, #, 0, #, 1, 1\n",
            "m4_m12_m20_m28, #, #, 1, 0, 0\n",
            "m8_m12_m24_m28, #, 1, #, 0, 0\n",
            "m12_m14_m28_m30, #, 1, 1, #, 0\n",
            "m16_m20_m24_m28, 1, #, #, 0, 0\n",
            "m20_m22_m28_m30, 1, #, 1, #, 0\n",
            "m24_m25_m28_m29, 1, 1, #, 0, #\n",
            "A'D'E'+B'D'E'+C'D'E'+A'DE+B'DE+CD'E'+BD'E'+BCE'+AD'E'+ACE'+ABD'\n"
          ]
        }
      ]
    },
    {
      "cell_type": "code",
      "metadata": {
        "colab": {
          "base_uri": "https://localhost:8080/",
          "height": 35
        },
        "id": "c2eilEpGLTPG",
        "outputId": "2147d5c4-31a4-4a44-cc89-ea403247e16a"
      },
      "source": [
        "def negar(cadena):\n",
        "  res = \"\"\n",
        "  if cadena[len(cadena)-1] != \"'\":\n",
        "    for i in range(len(cadena)):\n",
        "      if i < len(cadena) - 1 and cadena[i+1] == \"'\":\n",
        "        if cadena[i] == '0':\n",
        "          res += '1'\n",
        "        elif cadena[i] == '1':\n",
        "          res += '0'\n",
        "      else:\n",
        "        if cadena[i] != \"'\":\n",
        "          res += cadena[i]\n",
        "  else:\n",
        "    for i in range(len(cadena)-1):\n",
        "      if i < len(cadena) - 1 and cadena[i+1] == \"'\":\n",
        "        if cadena[i] == '0':\n",
        "          res += '1'\n",
        "        elif cadena[i] == '1':\n",
        "          res += '0'\n",
        "      else:\n",
        "        if cadena[i] != \"'\":\n",
        "          res += cadena[i]\n",
        "  return res\n",
        "\n",
        "      \n",
        "\n",
        "negar(\"1000001'\")\n"
      ],
      "execution_count": null,
      "outputs": [
        {
          "output_type": "execute_result",
          "data": {
            "application/vnd.google.colaboratory.intrinsic+json": {
              "type": "string"
            },
            "text/plain": [
              "'1000000'"
            ]
          },
          "metadata": {},
          "execution_count": 5
        }
      ]
    },
    {
      "cell_type": "code",
      "metadata": {
        "colab": {
          "base_uri": "https://localhost:8080/"
        },
        "id": "sM1Tn1BTzmmc",
        "outputId": "6266f97d-0381-4e7a-c7a7-bfdbc87d2f97"
      },
      "source": [
        "def cero(cadena):\n",
        "  cont = 0\n",
        "  for i in cadena:\n",
        "    if i == '0':\n",
        "      cont += 1\n",
        "  return cont > 0\n",
        "\n",
        "def turn(lista):\n",
        "  l = []\n",
        "  for i in range(len(lista)):\n",
        "    if cero(lista[i]):\n",
        "      l.append('0')\n",
        "    else:\n",
        "      l.append('1')\n",
        "  return l\n",
        "\n",
        "\n",
        "print(turn(['010', '110']))\n"
      ],
      "execution_count": null,
      "outputs": [
        {
          "output_type": "stream",
          "name": "stdout",
          "text": [
            "['0', '0']\n"
          ]
        }
      ]
    },
    {
      "cell_type": "code",
      "metadata": {
        "colab": {
          "base_uri": "https://localhost:8080/",
          "height": 35
        },
        "id": "NuVlLdzXG9Uc",
        "outputId": "74db814e-1272-4325-d1ad-63e1e2710afe"
      },
      "source": [
        "def calcular(cadena,numero,num_ent):\n",
        "  if len(numero) == num_ent:\n",
        "    letras = ['A','B','C','D','E','F','G','H','I','J']\n",
        "    letras = letras[0:num_ent]\n",
        "    dic = {}\n",
        "    operaciones = cadena.split(\"+\")\n",
        "    cad = \"\"\n",
        "    res = ''\n",
        "    for i in range(len(numero)):\n",
        "      dic[letras[i]] = numero[i]\n",
        "    for i in range(len(operaciones)):\n",
        "      for j in operaciones[i]:\n",
        "        if j != \"'\":\n",
        "          cad += str(dic[j])\n",
        "        else:\n",
        "          cad += \"'\"\n",
        "      operaciones[i] = cad\n",
        "      cad = \"\"\n",
        "    for i in range(len(operaciones)):\n",
        "      operaciones[i] = negar(operaciones[i])\n",
        "    operaciones = turn(operaciones)\n",
        "    for i in operaciones:\n",
        "      if not cero(i):\n",
        "        res = '1'\n",
        "      else:\n",
        "        res = '0'\n",
        "    return res\n",
        "        \n",
        "    \n",
        "  else:\n",
        "    return \"Introduce el mismo numero de valores que de entradas\"\n",
        "  \n",
        "calcular(\"A'D'E'+B'D'E'+AB'E\", \"111111\",6)"
      ],
      "execution_count": null,
      "outputs": [
        {
          "output_type": "execute_result",
          "data": {
            "application/vnd.google.colaboratory.intrinsic+json": {
              "type": "string"
            },
            "text/plain": [
              "'0'"
            ]
          },
          "metadata": {},
          "execution_count": 9
        }
      ]
    },
    {
      "cell_type": "code",
      "metadata": {
        "colab": {
          "base_uri": "https://localhost:8080/"
        },
        "id": "TTqUrsTW7BjG",
        "outputId": "f32e3934-2780-4954-f75b-56c60f9a9549"
      },
      "source": [
        "tabla = crearLista(3)\n",
        "print(tabla)\n",
        "\n",
        "def calcular_tabla_de_verdad(lista,fun,ent):\n",
        "  for min in lista:\n",
        "    num = min[1]\n",
        "    print(num,calcular(fun,num,ent))\n",
        "\n",
        "calcular_tabla_de_verdad(tabla,\"'A+B+C\",3)"
      ],
      "execution_count": null,
      "outputs": [
        {
          "output_type": "stream",
          "name": "stdout",
          "text": [
            "[('m0', '000'), ('m1', '001'), ('m2', '010'), ('m3', '011'), ('m4', '100'), ('m5', '101'), ('m6', '110'), ('m7', '111')]\n",
            "000 0\n",
            "001 1\n",
            "010 0\n",
            "011 1\n",
            "100 0\n",
            "101 1\n",
            "110 0\n",
            "111 1\n"
          ]
        }
      ]
    }
  ]
}