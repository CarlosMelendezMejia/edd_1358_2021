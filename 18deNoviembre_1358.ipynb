{
  "nbformat": 4,
  "nbformat_minor": 0,
  "metadata": {
    "colab": {
      "name": "18deNoviembre_1358.ipynb",
      "provenance": [],
      "authorship_tag": "ABX9TyOZ98PqDYoophL9gDKCYsGm",
      "include_colab_link": true
    },
    "kernelspec": {
      "name": "python3",
      "display_name": "Python 3"
    }
  },
  "cells": [
    {
      "cell_type": "markdown",
      "metadata": {
        "id": "view-in-github",
        "colab_type": "text"
      },
      "source": [
        "<a href=\"https://colab.research.google.com/github/CarlosMelendezMejia/edd_1358_2021/blob/master/18deNoviembre_1358.ipynb\" target=\"_parent\"><img src=\"https://colab.research.google.com/assets/colab-badge.svg\" alt=\"Open In Colab\"/></a>"
      ]
    },
    {
      "cell_type": "code",
      "metadata": {
        "colab": {
          "base_uri": "https://localhost:8080/"
        },
        "id": "CB4I0ZKJIJ2_",
        "outputId": "69d771fc-d7e4-410d-c738-12efe18d4ebb"
      },
      "source": [
        "class nodo:\n",
        "\n",
        "    def __init__(self,dato, siguiente = None ): #Argumento con un valor asignado\n",
        "        self.dato= dato\n",
        "        self.siguiente = siguiente\n",
        "\n",
        "head = nodo(10,nodo(20,nodo(30,nodo(40,nodo(50)))))\n",
        "\n",
        "#Recorrido transversal\n",
        "curr_nodo = head\n",
        "print(curr_nodo.dato,\"---> \",end=\"\")\n",
        "while curr_nodo.siguiente != None:\n",
        "  curr_nodo = curr_nodo.siguiente\n",
        "  print(curr_nodo.dato,\"---> \",end=\"\")\n",
        "print(\"\")\n",
        "\n",
        "#insertar el nodo 35 despues de 30\n",
        "\n",
        "anterior = head.siguiente.siguiente\n",
        "print(anterior.dato)\n",
        "nuevo = nodo(35)\n",
        "nuevo.siguiente = anterior.siguiente\n",
        "print(nuevo.siguiente.dato)\n",
        "anterior.siguiente = nuevo\n",
        "\n",
        "#Recorrido transversal\n",
        "curr_nodo = head\n",
        "print(curr_nodo.dato,\"---> \",end=\"\")\n",
        "while curr_nodo.siguiente != None:\n",
        "  curr_nodo = curr_nodo.siguiente\n",
        "  print(curr_nodo.dato,\"---> \",end=\"\")\n",
        "print(\"\")\n",
        "\n",
        "#Eliminar el nodo 20\n",
        "\n",
        "head.siguiente = head.siguiente.siguiente\n",
        "\n",
        "#Recorrido transversal\n",
        "curr_nodo = head\n",
        "print(curr_nodo.dato,\"---> \",end=\"\")\n",
        "while curr_nodo.siguiente != None:\n",
        "  curr_nodo = curr_nodo.siguiente\n",
        "  print(curr_nodo.dato,\"---> \",end=\"\")\n",
        "print(\"\")\n",
        "\n"
      ],
      "execution_count": null,
      "outputs": [
        {
          "output_type": "stream",
          "text": [
            "10 ---> 20 ---> 30 ---> 40 ---> 50 ---> \n",
            "30\n",
            "40\n",
            "10 ---> 20 ---> 30 ---> 35 ---> 40 ---> 50 ---> \n",
            "10 ---> 30 ---> 35 ---> 40 ---> 50 ---> \n"
          ],
          "name": "stdout"
        }
      ]
    },
    {
      "cell_type": "code",
      "metadata": {
        "id": "4CfdxdDPVy2V"
      },
      "source": [
        "class Linkedlist:\n",
        "  def __init__ ( self ):\n",
        "    self.__head = None\n",
        "  \n",
        "  def is_empty (self):\n",
        "    return self.__head == None"
      ],
      "execution_count": null,
      "outputs": []
    }
  ]
}