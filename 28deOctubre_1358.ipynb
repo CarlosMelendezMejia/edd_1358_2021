{
  "nbformat": 4,
  "nbformat_minor": 0,
  "metadata": {
    "colab": {
      "name": "28deOctubre_1358.ipynb",
      "provenance": [],
      "authorship_tag": "ABX9TyNb5XXg2jrRpzPYO09Jv2cs",
      "include_colab_link": true
    },
    "kernelspec": {
      "name": "python3",
      "display_name": "Python 3"
    }
  },
  "cells": [
    {
      "cell_type": "markdown",
      "metadata": {
        "id": "view-in-github",
        "colab_type": "text"
      },
      "source": [
        "<a href=\"https://colab.research.google.com/github/CarlosMelendezMejia/edd_1358_2021/blob/master/28deOctubre_1358.ipynb\" target=\"_parent\"><img src=\"https://colab.research.google.com/assets/colab-badge.svg\" alt=\"Open In Colab\"/></a>"
      ]
    },
    {
      "cell_type": "code",
      "metadata": {
        "id": "-v5iIq49B9FD",
        "outputId": "8c32306f-2391-491f-dc40-874ad9cfa290",
        "colab": {
          "base_uri": "https://localhost:8080/"
        }
      },
      "source": [
        "\"\"\"\n",
        "Array\n",
        "\n",
        "\"\"\"\n",
        "\n",
        "class Array:\n",
        "  def __init__(self, tam):\n",
        "    self.__datos = [0 for x in range(tam)] #generador, crea un arreglo de 0s\n",
        "\n",
        "  def get_item(self,index):\n",
        "    dato = 0\n",
        "    if index >= 0 and index < len(self.__datos):\n",
        "      dato = self.__datos[index]\n",
        "    else:\n",
        "      print(\"Error en el indice\")\n",
        "    return dato\n",
        "  def set_item(self, dato ,index):\n",
        "    if index >= 0 and index < len(self.__datos):\n",
        "      self.__datos[index] = dato\n",
        "    else:\n",
        "      print(\"Error en el indice\")\n",
        "  def get_length(self):\n",
        "    return len(self.__datos)\n",
        "  def clear (self,dato):\n",
        "    self.__datos=[dato for x in range(len(self.__datos))]\n",
        "    return self.__datos\n",
        "  def getIterator(self):\n",
        "    return _getIterator(self.__datos)\n",
        "\n",
        "class _getIterator:\n",
        "  def __init__( self , arreglo ):\n",
        "    self.__arreglo = arreglo\n",
        "    self.__indice_actual = 0\n",
        "\n",
        "  def __iter__( self ):\n",
        "    return self\n",
        "\n",
        "  def __next__( self  ):\n",
        "    if self.__indice_actual < len(self.__arreglo):\n",
        "      dato = self.__arreglo[self.__indice_actual]\n",
        "      self.__indice_actual +=1\n",
        "      return dato\n",
        "    else:\n",
        "      raise StopIteration\n",
        "  def getIterator( self ):\n",
        "    return _getIterator( self.__datos )\n",
        "      \n",
        "\n",
        "\n",
        "mi_arreglo = Array(10)\n",
        "print(mi_arreglo.get_item(20))\n",
        "mi_arreglo.set_item(2345,3)\n",
        "print(mi_arreglo.get_item(3))\n",
        "mi_arreglo.clear(3)\n",
        "\n",
        "\n",
        "for x in mi_arreglo.getIterator():\n",
        "  print(x)"
      ],
      "execution_count": 59,
      "outputs": [
        {
          "output_type": "stream",
          "text": [
            "Error en el indice\n",
            "0\n",
            "2345\n",
            "3\n",
            "3\n",
            "3\n",
            "3\n",
            "3\n",
            "3\n",
            "3\n",
            "3\n",
            "3\n",
            "3\n"
          ],
          "name": "stdout"
        }
      ]
    },
    {
      "cell_type": "markdown",
      "metadata": {
        "id": "6gQ3GVkPHKAt"
      },
      "source": [
        "#Generadores"
      ]
    },
    {
      "cell_type": "code",
      "metadata": {
        "id": "0ngUeCWpGoyr",
        "outputId": "af62e699-c9fe-4c09-eb81-cf69f84e93e9",
        "colab": {
          "base_uri": "https://localhost:8080/"
        }
      },
      "source": [
        "tam = 10\n",
        "dato = 0\n",
        "basura = ['manzana','pera']\n",
        "datos = [ x.upper() for x in basura ]\n",
        "print(datos)"
      ],
      "execution_count": 32,
      "outputs": [
        {
          "output_type": "stream",
          "text": [
            "['MANZANA', 'PERA']\n"
          ],
          "name": "stdout"
        }
      ]
    },
    {
      "cell_type": "markdown",
      "metadata": {
        "id": "DEV_rudfIWOj"
      },
      "source": [
        "[ [0,0,0],\n",
        "  [0.0.0],\n",
        " [0,0,0] ]"
      ]
    },
    {
      "cell_type": "code",
      "metadata": {
        "id": "Jf8fHsxqISC3",
        "outputId": "92bb7d8d-43b4-4717-e0b8-e601fa1afc1c",
        "colab": {
          "base_uri": "https://localhost:8080/"
        }
      },
      "source": [
        "#Lista de 2 dimensiones\n",
        "ren = 4\n",
        "col = 6\n",
        "\n",
        "dos_d = [[0 for x in range(col)] for x in range(ren) ]\n",
        "print(dos_d)"
      ],
      "execution_count": 35,
      "outputs": [
        {
          "output_type": "stream",
          "text": [
            "[[0, 0, 0, 0, 0, 0], [0, 0, 0, 0, 0, 0], [0, 0, 0, 0, 0, 0], [0, 0, 0, 0, 0, 0]]\n"
          ],
          "name": "stdout"
        }
      ]
    }
  ]
}