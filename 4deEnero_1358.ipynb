{
  "nbformat": 4,
  "nbformat_minor": 0,
  "metadata": {
    "colab": {
      "name": "4deEnero_1358.ipynb",
      "provenance": [],
      "authorship_tag": "ABX9TyNyK7SGzvkpIzFl9W7NNS31",
      "include_colab_link": true
    },
    "kernelspec": {
      "name": "python3",
      "display_name": "Python 3"
    }
  },
  "cells": [
    {
      "cell_type": "markdown",
      "metadata": {
        "id": "view-in-github",
        "colab_type": "text"
      },
      "source": [
        "<a href=\"https://colab.research.google.com/github/CarlosMelendezMejia/edd_1358_2021/blob/master/4deEnero_1358.ipynb\" target=\"_parent\"><img src=\"https://colab.research.google.com/assets/colab-badge.svg\" alt=\"Open In Colab\"/></a>"
      ]
    },
    {
      "cell_type": "code",
      "metadata": {
        "id": "fBhy1JmYLs_l"
      },
      "source": [
        "class Queue:\n",
        "    def __init__(self):\n",
        "        self.__data = list()\n",
        "\n",
        "    def is_empty(self):\n",
        "        return len(self.__data) == 0\n",
        "\n",
        "    def length(self):\n",
        "        return len(self.__data)\n",
        "\n",
        "    def enqueue(self, item):\n",
        "        self.__data.append(item)\n",
        "\n",
        "    def dequeue(self):\n",
        "        if not self.is_empty():\n",
        "            return self.__data.pop(0)\n",
        "        else:\n",
        "            return None\n",
        "\n",
        "    def to_String(self):\n",
        "        for elem in self.__data:\n",
        "            print(f\"| {elem} \",end=\"\")\n",
        "        print(\"|\")\n"
      ],
      "execution_count": 1,
      "outputs": []
    },
    {
      "cell_type": "code",
      "metadata": {
        "colab": {
          "base_uri": "https://localhost:8080/"
        },
        "id": "nfnafzQmT0XS",
        "outputId": "78631686-7c2c-405d-acd2-9a5425eb09bb"
      },
      "source": [
        "cola = Queue()\n",
        "\n",
        "cola.enqueue(10)\n",
        "cola.enqueue(2)\n",
        "cola.enqueue(20)\n",
        "cola.enqueue(110)\n",
        "cola.enqueue(33)\n",
        "\n",
        "cola.to_String()\n",
        "\n",
        "#Meter un elemento\n",
        "\n",
        "cola.enqueue(44)\n",
        "cola.to_String()\n",
        "\n",
        "#Sacar un elemento\n",
        "\n",
        "elem = cola.dequeue()\n",
        "print(f\"El elemento es {elem}\")\n",
        "cola.to_String()\n",
        "\n",
        "elem = cola.dequeue()\n",
        "print(f\"El elemento es {elem}\")\n",
        "cola.to_String()\n"
      ],
      "execution_count": 4,
      "outputs": [
        {
          "output_type": "stream",
          "text": [
            "| 10 | 2 | 20 | 110 | 33 |\n",
            "| 10 | 2 | 20 | 110 | 33 | 44 |\n",
            "El elemento es 10\n",
            "| 2 | 20 | 110 | 33 | 44 |\n",
            "El elemento es 2\n",
            "| 20 | 110 | 33 | 44 |\n"
          ],
          "name": "stdout"
        }
      ]
    },
    {
      "cell_type": "code",
      "metadata": {
        "colab": {
          "base_uri": "https://localhost:8080/"
        },
        "id": "Bni9AniPUj_H",
        "outputId": "fe878361-d93a-472a-fd08-a3589defb387"
      },
      "source": [
        "c1 = { \"id\" : 1 , \"nombre\":\"Jose\" , \"balance\":2345654.99}\n",
        "c2 = { \"id\" : 2 , \"nombre\":\"Maria\" , \"balance\":2323.01}\n",
        "c3 = { \"id\" : 3 , \"nombre\":\"Jesus\" , \"balance\":333.55}\n",
        "\n",
        "queue = Queue()\n",
        "\n",
        "queue.enqueue(c1)\n",
        "queue.enqueue(c2)\n",
        "queue.enqueue(c3)\n",
        "queue.to_String()\n",
        "\n",
        "a_atender = queue.dequeue()\n",
        "print(f\"Hola Sr {a_atender['nombre']}, que tramite desea hacer?\")\n"
      ],
      "execution_count": 5,
      "outputs": [
        {
          "output_type": "stream",
          "text": [
            "| {'id': 1, 'nombre': 'Jose', 'balance': 2345654.99} | {'id': 2, 'nombre': 'Maria', 'balance': 2323.01} | {'id': 3, 'nombre': 'Jesus', 'balance': 333.55} |\n",
            "Hola Sr Jose, que tramite desea hacer?\n"
          ],
          "name": "stdout"
        }
      ]
    }
  ]
}