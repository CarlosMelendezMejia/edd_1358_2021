{
  "nbformat": 4,
  "nbformat_minor": 0,
  "metadata": {
    "colab": {
      "name": "26deOctubre_1358.ipynb",
      "provenance": [],
      "authorship_tag": "ABX9TyPEkUU05CUW3Rd3BsJ/OLrS",
      "include_colab_link": true
    },
    "kernelspec": {
      "name": "python3",
      "display_name": "Python 3"
    }
  },
  "cells": [
    {
      "cell_type": "markdown",
      "metadata": {
        "id": "view-in-github",
        "colab_type": "text"
      },
      "source": [
        "<a href=\"https://colab.research.google.com/github/CarlosMelendezMejia/edd_1358_2021/blob/master/26deOctubre_1358.ipynb\" target=\"_parent\"><img src=\"https://colab.research.google.com/assets/colab-badge.svg\" alt=\"Open In Colab\"/></a>"
      ]
    },
    {
      "cell_type": "code",
      "metadata": {
        "id": "0Sf1cbGDostY",
        "outputId": "34110792-2c49-4974-8366-487b39aeb437",
        "colab": {
          "base_uri": "https://localhost:8080/",
          "height": 34
        }
      },
      "source": [
        "\"\"\"\n",
        "Array\n",
        "\n",
        "\"\"\"\n",
        "\n",
        "class Array:\n",
        "  def __init__(self, tam):\n",
        "    self.__datos = [0 for x in range(tam)] #generador, crea un arreglo de 0s\n",
        "  def get_item(self,index):\n",
        "    return self.__datos[index]\n",
        "\n",
        "mi_arreglo = Array(10)\n",
        "print(mi_arreglo.get_item(2))"
      ],
      "execution_count": 7,
      "outputs": [
        {
          "output_type": "stream",
          "text": [
            "0\n"
          ],
          "name": "stdout"
        }
      ]
    }
  ]
}