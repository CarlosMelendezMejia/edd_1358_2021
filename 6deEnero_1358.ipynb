{
  "nbformat": 4,
  "nbformat_minor": 0,
  "metadata": {
    "colab": {
      "name": "6deEnero_1358.ipynb",
      "provenance": [],
      "authorship_tag": "ABX9TyOenIv00CpAbR0Vspj5Eeos",
      "include_colab_link": true
    },
    "kernelspec": {
      "name": "python3",
      "display_name": "Python 3"
    }
  },
  "cells": [
    {
      "cell_type": "markdown",
      "metadata": {
        "id": "view-in-github",
        "colab_type": "text"
      },
      "source": [
        "<a href=\"https://colab.research.google.com/github/CarlosMelendezMejia/edd_1358_2021/blob/master/6deEnero_1358.ipynb\" target=\"_parent\"><img src=\"https://colab.research.google.com/assets/colab-badge.svg\" alt=\"Open In Colab\"/></a>"
      ]
    },
    {
      "cell_type": "code",
      "metadata": {
        "id": "H_fyZScLdgxl"
      },
      "source": [
        "class Queue:\n",
        "    def __init__(self):\n",
        "        self.__data = list()\n",
        "\n",
        "    def is_empty(self):\n",
        "        return len(self.__data) == 0\n",
        "\n",
        "    def length(self):\n",
        "        return len(self.__data)\n",
        "\n",
        "    def enqueue(self, item):\n",
        "        self.__data.append(item)\n",
        "\n",
        "    def dequeue(self):\n",
        "        if not self.is_empty():\n",
        "            return self.__data.pop(0)\n",
        "        else:\n",
        "            return None\n",
        "\n",
        "    def to_String(self):\n",
        "        for elem in self.__data:\n",
        "            print(f\"| {elem} \",end=\"\")\n",
        "        print(\"|\")\n"
      ],
      "execution_count": 1,
      "outputs": []
    },
    {
      "cell_type": "code",
      "metadata": {
        "id": "Lyjg8GWXsXqJ"
      },
      "source": [
        "class BoundedPriorityQueue:\n",
        "    def __init__(self,niveles):\n",
        "        self.__data = [Queue() for x in range(niveles)]\n",
        "        self.__size = 0\n",
        "\n",
        "    def is_empty (self):\n",
        "        return self.__size == 0\n",
        "\n",
        "    def length (self):\n",
        "        return self.__size\n",
        "\n",
        "    def enqueue (self, prioridad, elem):\n",
        "        self.__data.insert[prioridad].enqueue(elem)"
      ],
      "execution_count": 2,
      "outputs": []
    }
  ]
}