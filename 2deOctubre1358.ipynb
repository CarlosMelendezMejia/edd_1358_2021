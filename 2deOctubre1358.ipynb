{
  "nbformat": 4,
  "nbformat_minor": 0,
  "metadata": {
    "colab": {
      "name": "2deOctubre1358",
      "provenance": [],
      "authorship_tag": "ABX9TyPcFMWDPw4r0FPzDffyp3Km",
      "include_colab_link": true
    },
    "kernelspec": {
      "name": "python3",
      "display_name": "Python 3"
    }
  },
  "cells": [
    {
      "cell_type": "markdown",
      "metadata": {
        "id": "view-in-github",
        "colab_type": "text"
      },
      "source": [
        "<a href=\"https://colab.research.google.com/github/CarlosMelendezMejia/edd_1358_2021/blob/master/2deOctubre1358.ipynb\" target=\"_parent\"><img src=\"https://colab.research.google.com/assets/colab-badge.svg\" alt=\"Open In Colab\"/></a>"
      ]
    },
    {
      "cell_type": "markdown",
      "metadata": {
        "id": "O2EcQMQg3Iu1"
      },
      "source": [
        "#Tipo de Dato en Python\n",
        "- String str\n",
        "- Entero int\n",
        "- Numero flotante float\n",
        "- Logico bool\n",
        "- Numero complejo complex\n",
        "- Listas list\n",
        "- Tuplas tuple\n",
        "- Diccionarios dict\n",
        "- Conjuntos set"
      ]
    },
    {
      "cell_type": "code",
      "metadata": {
        "id": "4z19BUaE3H67",
        "outputId": "d97e5f97-0041-4ca8-ed6b-1fd8d155673b",
        "colab": {
          "base_uri": "https://localhost:8080/",
          "height": 238
        }
      },
      "source": [
        "#string puede emplear \"\",'',\"\"\" \"\"\"\n",
        "universidad = \"       universidad      nacional    autonoma de mexico\"\n",
        "print (universidad)\n",
        "\n",
        "#Cuando el string es solo una palabra se usa ''-> buena practica\n",
        "\n",
        "carrera = 'ico'\n",
        "area = \"software\"\n",
        "division = 'division de las ciencias fisico matematicas'\n",
        "print(carrera,area)\n",
        "print(division)\n",
        "\n",
        "# \"\"\" cuando el string incluye varios renglones\n",
        "frase = \"\"\" \n",
        "Si funciona \n",
        "no lo arregles \"\"\"\n",
        "\n",
        "#Todo en mayusculas\n",
        "\n",
        "print(universidad.upper())\n",
        "\n",
        "#Inicial de cada cadena en mayusculas\n",
        "\n",
        "print(universidad.title())\n",
        "\n",
        "#eliminar espacios y saltos de linea\n",
        "\n",
        "lista = universidad.split(\" \")\n",
        "print(lista)\n",
        "nueva=\"\"\n",
        "for l in lista:\n",
        "  if len(l)>0:\n",
        "    nueva += l + \" \"\n",
        "print(nueva)\n",
        "\n",
        "#Aplicacion de split\n",
        "\n",
        "numeros = \"1,2,34,56,100\"\n",
        "separados = numeros.split(\",\")\n",
        "print(separados)\n",
        "numerosInt = []\n",
        "for num in separados:\n",
        "  numerosInt.append(int(num))\n",
        "print(numerosInt)\n",
        "\n",
        "#index (conocer el indice de una subcadena)\n",
        "\n",
        "print(nueva)\n",
        "print(nueva.index(\" \"))\n",
        "print(nueva.index(\"na\"))\n",
        "\n",
        "#replace (reemplazar elementos)\n",
        "\n",
        "print(nueva.replace(' ','-'))\n",
        "\n",
        "\n"
      ],
      "execution_count": 25,
      "outputs": [
        {
          "output_type": "stream",
          "text": [
            "       universidad      nacional    autonoma de mexico\n",
            "ico software\n",
            "division de las ciencias fisico matematicas\n",
            "       UNIVERSIDAD      NACIONAL    AUTONOMA DE MEXICO\n",
            "       Universidad      Nacional    Autonoma De Mexico\n",
            "['', '', '', '', '', '', '', 'universidad', '', '', '', '', '', 'nacional', '', '', '', 'autonoma', 'de', 'mexico']\n",
            "universidad nacional autonoma de mexico \n",
            "['1', '2', '34', '56', '100']\n",
            "[1, 2, 34, 56, 100]\n",
            "universidad nacional autonoma de mexico \n",
            "11\n",
            "12\n",
            "universidad-nacional-autonoma-de-mexico-\n"
          ],
          "name": "stdout"
        }
      ]
    },
    {
      "cell_type": "markdown",
      "metadata": {
        "id": "R76-yrNX_b0J"
      },
      "source": [
        "#Slicing\n",
        "sintaxis\n",
        "[inicio : stop : incremento]"
      ]
    },
    {
      "cell_type": "code",
      "metadata": {
        "id": "Rd9asa6K_vJJ",
        "outputId": "ab639425-e9cc-4f78-99fd-67ac0dd9a1ad",
        "colab": {
          "base_uri": "https://localhost:8080/",
          "height": 119
        }
      },
      "source": [
        "#Selector de elementos dentro de un String\n",
        "print (nueva[0])\n",
        "nueva = nueva.strip()\n",
        "#metodo 1\n",
        "print (nueva[len(nueva)-1])\n",
        "#metodo 2\n",
        "print(nueva[-1])\n",
        "# Slicing\n",
        "print(nueva)\n",
        "print(nueva[12:20:1])\n",
        "#mexico al reves con slicing\n",
        "print(nueva[-1:-7:-1])\n",
        "#valores por defecto [ 0 : longitud de la lista : 1]"
      ],
      "execution_count": 33,
      "outputs": [
        {
          "output_type": "stream",
          "text": [
            "u\n",
            "o\n",
            "o\n",
            "universidad nacional autonoma de mexico\n",
            "nacional\n",
            "ocixem\n"
          ],
          "name": "stdout"
        }
      ]
    },
    {
      "cell_type": "markdown",
      "metadata": {
        "id": "R4G3bX1tEE9D"
      },
      "source": [
        "#bool\n",
        "Acepta solo dos valores\n",
        "\n",
        "True bool(1)\n",
        "\n",
        "\n",
        "False bool(0)"
      ]
    },
    {
      "cell_type": "code",
      "metadata": {
        "id": "htjg07MLEYrZ"
      },
      "source": [
        "print(bool(0))\n",
        "print(bool(1))\n"
      ],
      "execution_count": null,
      "outputs": []
    },
    {
      "cell_type": "markdown",
      "metadata": {
        "id": "rKQJ3NbRFBdG"
      },
      "source": [
        "# comentarios\n",
        "\n",
        "Para un comentario de una linea se utiliza #\n",
        "\n",
        "\n",
        "Para un comentario de multiple linea, se utiliza \"\"\" \"\"\""
      ]
    },
    {
      "cell_type": "code",
      "metadata": {
        "id": "ZwiZEI-5FVUI",
        "outputId": "6597bf37-dd78-4dda-d720-74eac0a85b9c",
        "colab": {
          "base_uri": "https://localhost:8080/",
          "height": 35
        }
      },
      "source": [
        "#este es un comentario de linea simple\n",
        "\n",
        "\"\"\"\n",
        "comentario \n",
        "de linea\n",
        "multiple\n",
        "\"\"\""
      ],
      "execution_count": 35,
      "outputs": [
        {
          "output_type": "execute_result",
          "data": {
            "application/vnd.google.colaboratory.intrinsic+json": {
              "type": "string"
            },
            "text/plain": [
              "'\\ncomentario \\nde linea\\nmultiple\\n'"
            ]
          },
          "metadata": {
            "tags": []
          },
          "execution_count": 35
        }
      ]
    },
    {
      "cell_type": "markdown",
      "metadata": {
        "id": "fwy5oWPiFtCE"
      },
      "source": [
        "#Funcion print\n",
        "hay 4 formas de usar print\n",
        "\n",
        "1. con comas\n",
        "2. con signo +\n",
        "3. con la funcion format de la clase String\n",
        "4. con el operador f\"\""
      ]
    },
    {
      "cell_type": "code",
      "metadata": {
        "id": "Uf2oDrUSGDcO",
        "outputId": "4f23822c-c792-4110-80af-02bbb5849569",
        "colab": {
          "base_uri": "https://localhost:8080/",
          "height": 68
        }
      },
      "source": [
        "#con comas\n",
        "cantidad = 2\n",
        "precio_cheetos = 8\n",
        "precio_fanta = 12\n",
        "print(cantidad,precio_cheetos,precio_fanta)\n",
        "# con signo + solo opera con str\n",
        "print(\"hola\"+\"mundo\")\n",
        "print(cantidad+precio_cheetos+precio_fanta)\n",
        "print(str(cantidad)+str(precio_cheetos)+(precio_fanta))"
      ],
      "execution_count": 37,
      "outputs": [
        {
          "output_type": "stream",
          "text": [
            "2 8 12\n",
            "holamundo\n",
            "22\n"
          ],
          "name": "stdout"
        }
      ]
    }
  ]
}