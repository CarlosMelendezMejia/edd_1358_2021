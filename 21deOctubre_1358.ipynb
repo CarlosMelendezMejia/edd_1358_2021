{
  "nbformat": 4,
  "nbformat_minor": 0,
  "metadata": {
    "colab": {
      "name": "21deOctubre_1358.ipynb",
      "provenance": [],
      "authorship_tag": "ABX9TyN2z2+rZyswWurIUl1l1Beu",
      "include_colab_link": true
    },
    "kernelspec": {
      "name": "python3",
      "display_name": "Python 3"
    }
  },
  "cells": [
    {
      "cell_type": "markdown",
      "metadata": {
        "id": "view-in-github",
        "colab_type": "text"
      },
      "source": [
        "<a href=\"https://colab.research.google.com/github/CarlosMelendezMejia/edd_1358_2021/blob/master/21deOctubre_1358.ipynb\" target=\"_parent\"><img src=\"https://colab.research.google.com/assets/colab-badge.svg\" alt=\"Open In Colab\"/></a>"
      ]
    },
    {
      "cell_type": "markdown",
      "metadata": {
        "id": "y0TEoLiEuvQq"
      },
      "source": [
        "#Continuacion POO en python"
      ]
    },
    {
      "cell_type": "code",
      "metadata": {
        "id": "qXjv4xY2t6og",
        "outputId": "bc5697ec-4577-4a57-faef-f0aebf622f62",
        "colab": {
          "base_uri": "https://localhost:8080/",
          "height": 51
        }
      },
      "source": [
        "#encapsulamiento forma tradicional\n",
        "class Smartphone:\n",
        "\n",
        "  def __init__(self,m):#Constructor\n",
        "    self.__marca = m #atributo privado\n",
        "\n",
        "  #gets y sets\n",
        "\n",
        "  def set_marca(self,m):\n",
        "    self.__marca = m\n",
        "\n",
        "  def get_marca(self):\n",
        "    return self.__marca\n",
        "\n",
        "  def to_string(self):\n",
        "    return \"la marca del telefono es: \"+self.__marca\n",
        "\n",
        "sp1 = Smartphone(\"Huawei\")\n",
        "print(sp1.to_string())\n",
        "\n",
        "sp1.set_marca(\"Samsung\")\n",
        "print(sp1.to_string())\n",
        "\n",
        "\n"
      ],
      "execution_count": 4,
      "outputs": [
        {
          "output_type": "stream",
          "text": [
            "la marca del telefono es: Huawei\n",
            "la marca del telefono es: Samsung\n"
          ],
          "name": "stdout"
        }
      ]
    },
    {
      "cell_type": "code",
      "metadata": {
        "id": "qgqBRBJSxXRB",
        "outputId": "fa8a6db0-ca84-43ee-8497-5f350d5e5946",
        "colab": {
          "base_uri": "https://localhost:8080/",
          "height": 102
        }
      },
      "source": [
        "# forma python 3\n",
        "class SmartPhone:\n",
        "  def __init__(self,m):\n",
        "    self.marca = m #llamando al metodo get\n",
        "  \n",
        "  @property # define metodo get y declara self.__marca\n",
        "  def marca( self ):\n",
        "    return self.__marca\n",
        "\n",
        "  @marca.setter\n",
        "  def marca (self,m):\n",
        "    if m in [\"Lenovo\",\"Sony\",\"Motorola\",\"Iphone\",\"Huawei\",\"Xiaomi\"]:\n",
        "      self.__marca = m\n",
        "    else:\n",
        "      print(\"Asignacion no valida\")\n",
        "\n",
        "  def to_string(self):\n",
        "    return \"Marca = \"+self.marca\n",
        "\n",
        "sp2 = SmartPhone(\"Xiaomi\")\n",
        "print(sp2.to_string())\n",
        "\n",
        "sp2.__marca = \"Iphone\"\n",
        "print(sp2.to_string())\n",
        "\n",
        "sp2.marca = \"motorola\"\n",
        "print(sp2.to_string())\n",
        "\n",
        "sp2.marca=\"Lenovo\"\n",
        "print(sp2.to_string())\n"
      ],
      "execution_count": 22,
      "outputs": [
        {
          "output_type": "stream",
          "text": [
            "Marca = Xiaomi\n",
            "Marca = Xiaomi\n",
            "Asignacion no valida\n",
            "Marca = Xiaomi\n",
            "Marca = Lenovo\n"
          ],
          "name": "stdout"
        }
      ]
    },
    {
      "cell_type": "markdown",
      "metadata": {
        "id": "S7DMoDeB5waL"
      },
      "source": [
        "#Herencia"
      ]
    },
    {
      "cell_type": "code",
      "metadata": {
        "id": "XCFuvZB25SHG",
        "outputId": "d4574541-ba93-4ee1-a86e-9d728b34c880",
        "colab": {
          "base_uri": "https://localhost:8080/",
          "height": 34
        }
      },
      "source": [
        "class TelefonoTrabajo(SmartPhone):\n",
        "  def __init__( self , m):\n",
        "    self.marca = m\n",
        "\n",
        "sp3 = TelefonoTrabajo(\"Motorola\")\n",
        "print(sp3.to_string())"
      ],
      "execution_count": 26,
      "outputs": [
        {
          "output_type": "stream",
          "text": [
            "Marca = Motorola\n"
          ],
          "name": "stdout"
        }
      ]
    }
  ]
}