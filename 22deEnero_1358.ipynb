{
  "nbformat": 4,
  "nbformat_minor": 0,
  "metadata": {
    "colab": {
      "name": "22deEnero_1358.ipynb",
      "provenance": [],
      "authorship_tag": "ABX9TyPcEudt9PkqUEhppC18leoK",
      "include_colab_link": true
    },
    "kernelspec": {
      "name": "python3",
      "display_name": "Python 3"
    }
  },
  "cells": [
    {
      "cell_type": "markdown",
      "metadata": {
        "id": "view-in-github",
        "colab_type": "text"
      },
      "source": [
        "<a href=\"https://colab.research.google.com/github/CarlosMelendezMejia/edd_1358_2021/blob/master/22deEnero_1358.ipynb\" target=\"_parent\"><img src=\"https://colab.research.google.com/assets/colab-badge.svg\" alt=\"Open In Colab\"/></a>"
      ]
    },
    {
      "cell_type": "code",
      "metadata": {
        "id": "3WEaHzoxFnEr"
      },
      "source": [
        "class NodoArbol:\n",
        "    def __init__(self, value, left = None, right = None):\n",
        "        self.data = value\n",
        "        self.left = left\n",
        "        self.right = right"
      ],
      "execution_count": 1,
      "outputs": []
    },
    {
      "cell_type": "code",
      "metadata": {
        "id": "iqMWYuXvFn6x"
      },
      "source": [
        "class ArbolBinarioBusqueda:\n",
        "    def __init__(self):\n",
        "        self.__root = None\n",
        "\n",
        "    def insert(self,value):\n",
        "        if self.__root == None:\n",
        "            self.__root = NodoArbol(value)\n",
        "        else:\n",
        "            self.__insert__( self.__root, value)\n",
        "\n",
        "    def __insert__(self,nodo,value): #recursividad\n",
        "        if nodo.data == value:\n",
        "            print(\"El nodo ya existe, no se inserta \",value)\n",
        "        elif value < nodo.data:\n",
        "            #ir a la izquierda\n",
        "            if nodo.left == None:\n",
        "                nodo.left = NodoArbol(value)\n",
        "            else:\n",
        "                self.__insert__(nodo.left, value)\n",
        "        else:\n",
        "            #ir a la derecha\n",
        "            if nodo.right == None:\n",
        "                nodo.right = NodoArbol(value)\n",
        "            else:\n",
        "                self.__insert__(nodo.right, value)\n",
        "                \n",
        "    def transversal(self, format=\"\"): #in, pos, pre\n",
        "        if format == \"in\":\n",
        "            self.__recorrido_in(self.__root)\n",
        "        elif format == \"pre\":\n",
        "            self.__recorrido_pre(self.__root)\n",
        "        elif format == \"pos\":\n",
        "            self.__recorrido_pos(self.__root)\n",
        "        else:\n",
        "            print(\"Formato no valido\")\n",
        "\n",
        "    def __recorrido_in(self,nodo):\n",
        "        if nodo == None:\n",
        "            pass\n",
        "        else:\n",
        "            self.__recorrido_in(nodo.left)\n",
        "            print(nodo.data, end = \",\")\n",
        "            self.__recorrido_in(nodo.right)\n",
        "\n",
        "    def __recorrido_pre(self,nodo):\n",
        "        if nodo == None:\n",
        "            pass\n",
        "        else:\n",
        "            print(nodo.data, end=\",\")\n",
        "            self.__recorrido_pre(nodo.left)\n",
        "            self.__recorrido_pre(nodo.right)\n",
        "\n",
        "    def __recorrido_pos(self,nodo):\n",
        "        if nodo == None:\n",
        "            pass\n",
        "        else:\n",
        "            self.__recorrido_pos(nodo.left)\n",
        "            self.__recorrido_pos(nodo.right)\n",
        "            print(nodo.data, end=\",\")\n",
        "\n",
        "    def search(self, value):\n",
        "        if self.__root == None:\n",
        "            print(\"Arbol vacio\")\n",
        "        else:\n",
        "            return self.__search(self.__root, value)\n",
        "\n",
        "    def __search(self, nodo, value):\n",
        "        if nodo == None:\n",
        "            return None\n",
        "        elif nodo.data == value:\n",
        "            return nodo\n",
        "        elif value < nodo.data:\n",
        "            print(\"ir a la derecha\")\n",
        "            return self.__search(nodo.left,value)\n",
        "        else:\n",
        "            print(\"ir a la izquierda\")\n",
        "            return self.__search(nodo.right, value)\n",
        "\n"
      ],
      "execution_count": 3,
      "outputs": []
    },
    {
      "cell_type": "code",
      "metadata": {
        "colab": {
          "base_uri": "https://localhost:8080/"
        },
        "id": "bZjAuv1uFpp2",
        "outputId": "470f42be-a097-4d9d-ae77-c95a3657385d"
      },
      "source": [
        "abb = ArbolBinarioBusqueda()\n",
        "abb.insert(50)\n",
        "abb.insert(30)\n",
        "abb.insert(60)\n",
        "abb.insert(35)\n",
        "abb.insert(89)\n",
        "abb.insert(70)\n",
        "abb.insert(1)\n",
        "\n",
        "abb.transversal(\"in\")\n",
        "print(\"\")\n",
        "abb.transversal(\"pre\")\n",
        "print(\"\")\n",
        "abb.transversal(\"pos\")\n",
        "print(\"\")\n",
        "\n",
        "res = abb.search(70)\n",
        "print(f\"el nodo es: {res.data}, hijo izq {res.left}, hijo der {res.right}\")\n",
        "res = abb.search(89)\n",
        "print(f\"el nodo es: {res.data}, hijo izq {res.left.data}, hijo der {res.right}\")"
      ],
      "execution_count": 4,
      "outputs": [
        {
          "output_type": "stream",
          "text": [
            "1,30,35,50,60,70,89,\n",
            "50,30,1,35,60,89,70,\n",
            "1,35,30,70,89,60,50,\n",
            "ir a la izquierda\n",
            "ir a la izquierda\n",
            "ir a la derecha\n",
            "el nodo es: 70, hijo izq None, hijo der None\n",
            "ir a la izquierda\n",
            "ir a la izquierda\n",
            "el nodo es: 89, hijo izq 70, hijo der None\n"
          ],
          "name": "stdout"
        }
      ]
    }
  ]
}