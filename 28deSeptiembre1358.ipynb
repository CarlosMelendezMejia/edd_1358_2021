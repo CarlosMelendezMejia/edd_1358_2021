{
  "nbformat": 4,
  "nbformat_minor": 0,
  "metadata": {
    "colab": {
      "name": "28deSeptiembre1358.ipynb",
      "provenance": [],
      "authorship_tag": "ABX9TyOdOEBnDi7pPErNl78uViU9",
      "include_colab_link": true
    },
    "kernelspec": {
      "name": "python3",
      "display_name": "Python 3"
    }
  },
  "cells": [
    {
      "cell_type": "markdown",
      "metadata": {
        "id": "view-in-github",
        "colab_type": "text"
      },
      "source": [
        "<a href=\"https://colab.research.google.com/github/CarlosMelendezMejia/edd_1358_2021/blob/master/28deSeptiembre1358.ipynb\" target=\"_parent\"><img src=\"https://colab.research.google.com/assets/colab-badge.svg\" alt=\"Open In Colab\"/></a>"
      ]
    },
    {
      "cell_type": "code",
      "metadata": {
        "id": "0wn6c7WDXWTU",
        "outputId": "37362918-cf8f-4767-8c6e-e019003635fd",
        "colab": {
          "base_uri": "https://localhost:8080/",
          "height": 34
        }
      },
      "source": [
        "print(\"hola colab research\")\n",
        "nombre = \"EdD\"\n",
        "val=10"
      ],
      "execution_count": null,
      "outputs": [
        {
          "output_type": "stream",
          "text": [
            "hola colab research\n"
          ],
          "name": "stdout"
        }
      ]
    },
    {
      "cell_type": "code",
      "metadata": {
        "id": "QWrqrd8XX2Qh",
        "outputId": "aebca01f-7279-422f-f03e-361aa93ea3fa",
        "colab": {
          "base_uri": "https://localhost:8080/",
          "height": 51
        }
      },
      "source": [
        "print(nombre)\n",
        "print(val)"
      ],
      "execution_count": null,
      "outputs": [
        {
          "output_type": "stream",
          "text": [
            "EdD\n",
            "10\n"
          ],
          "name": "stdout"
        }
      ]
    },
    {
      "cell_type": "markdown",
      "metadata": {
        "id": "JOmT9wtAZtgc"
      },
      "source": [
        "#  Encabezado\n",
        "## Encabezado\n",
        "### Sintaaxis markdown\n",
        "* elemento 1\n",
        "* elemento 2\n",
        "\n",
        "1. fresa\n",
        "2. manzana\n",
        "3. jaja\n",
        "\n",
        "Texto largo en **negritas** e _italica_\n",
        "[ir a google](https://www.google.com.mx/?hl=es-419)"
      ]
    },
    {
      "cell_type": "code",
      "metadata": {
        "id": "zLRxuedYb_8-"
      },
      "source": [
        "class Silla():\n",
        "  def __init__( self ):\n",
        "    self.material=\"plastico\"\n",
        "    self.color=\"verde\"\n",
        "\n",
        "  def to_String ( self ):\n",
        "    print(\"------------\")\n",
        "    print(f\"Material: {self.material}\")\n",
        "    print(f\"{self.color}-------------\")\n",
        "    "
      ],
      "execution_count": null,
      "outputs": []
    },
    {
      "cell_type": "code",
      "metadata": {
        "id": "o09m8p5MeN8f",
        "outputId": "8cfcea4b-e323-4b49-b78e-c9cd6d4af77c",
        "colab": {
          "base_uri": "https://localhost:8080/",
          "height": 68
        }
      },
      "source": [
        "obj = Silla()\n",
        "obj.material = \"madera\"\n",
        "obj.color = \"Rojo\"\n",
        "obj.to_String()"
      ],
      "execution_count": null,
      "outputs": [
        {
          "output_type": "stream",
          "text": [
            "------------\n",
            "Material: madera\n",
            "Rojo-------------\n"
          ],
          "name": "stdout"
        }
      ]
    }
  ]
}