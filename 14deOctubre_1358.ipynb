{
  "nbformat": 4,
  "nbformat_minor": 0,
  "metadata": {
    "colab": {
      "name": "14deOctubre_1358.ipynb",
      "provenance": [],
      "toc_visible": true,
      "authorship_tag": "ABX9TyMnAUwNjo4qodfe7VpzLm8R",
      "include_colab_link": true
    },
    "kernelspec": {
      "name": "python3",
      "display_name": "Python 3"
    }
  },
  "cells": [
    {
      "cell_type": "markdown",
      "metadata": {
        "id": "view-in-github",
        "colab_type": "text"
      },
      "source": [
        "<a href=\"https://colab.research.google.com/github/CarlosMelendezMejia/edd_1358_2021/blob/master/14deOctubre_1358.ipynb\" target=\"_parent\"><img src=\"https://colab.research.google.com/assets/colab-badge.svg\" alt=\"Open In Colab\"/></a>"
      ]
    },
    {
      "cell_type": "markdown",
      "metadata": {
        "id": "Hj7uOUU6rOCz"
      },
      "source": [
        "#Funciones\n"
      ]
    },
    {
      "cell_type": "code",
      "metadata": {
        "id": "Lh3bXmWoqfT7",
        "outputId": "432d3bc0-c040-4407-c89a-dc77efe7b6f4",
        "colab": {
          "base_uri": "https://localhost:8080/",
          "height": 68
        }
      },
      "source": [
        "#Declaracion de una función\n",
        "\n",
        "def calcular(a,b,c):\n",
        "  x = a + (b/c)\n",
        "  return x\n",
        "\n",
        "print(calcular(5,9,3))\n",
        "print(calcular(a=5,c=3,b=9))\n",
        "\n",
        "#Funcion con valores predefinidos\n",
        "\n",
        "def calcular_v2(a=10,b=20,c=5):\n",
        "  x = a + (b/c)\n",
        "  return x\n",
        "\n",
        "print(calcular_v2(40,8))"
      ],
      "execution_count": 6,
      "outputs": [
        {
          "output_type": "stream",
          "text": [
            "8.0\n",
            "8.0\n",
            "41.6\n"
          ],
          "name": "stdout"
        }
      ]
    },
    {
      "cell_type": "markdown",
      "metadata": {
        "id": "kSn3Q74brvxP"
      },
      "source": [
        "#Argumentos a funciones por tupla *\n",
        "Se envian los argumentos en un conjunto de elementos dentro de una tupla"
      ]
    },
    {
      "cell_type": "code",
      "metadata": {
        "id": "zlwIShSur5oT",
        "outputId": "6f832bb9-6196-45d1-83cf-fc8da9a9c86b",
        "colab": {
          "base_uri": "https://localhost:8080/",
          "height": 51
        }
      },
      "source": [
        "#operador * regresa una tupla\n",
        "def calculo( *elem ):\n",
        "  print(elem)\n",
        "  x = elem [0] + (elem[1]/elem[2])\n",
        "  return x\n",
        "\n",
        "print(calculo(5,9,3))"
      ],
      "execution_count": 8,
      "outputs": [
        {
          "output_type": "stream",
          "text": [
            "(5, 9, 3)\n",
            "8.0\n"
          ],
          "name": "stdout"
        }
      ]
    },
    {
      "cell_type": "markdown",
      "metadata": {
        "id": "BvN9nEwgs0sa"
      },
      "source": [
        "#Argumento como diccionario**"
      ]
    },
    {
      "cell_type": "code",
      "metadata": {
        "id": "9rOjng12s4j5",
        "outputId": "62c4b7a6-dbf5-4463-aefd-1208325ea1d1",
        "colab": {
          "base_uri": "https://localhost:8080/",
          "height": 51
        }
      },
      "source": [
        "#operador ** regresa una diccionario\n",
        "def calculo(**elem):\n",
        "  print(elem)\n",
        "  x = elem['a'] + (elem['b']/elem['c'])\n",
        "  return x\n",
        "\n",
        "print(calculo(a=5,b=9,c=3))"
      ],
      "execution_count": 11,
      "outputs": [
        {
          "output_type": "stream",
          "text": [
            "{'a': 5, 'b': 9, 'c': 3}\n",
            "8.0\n"
          ],
          "name": "stdout"
        }
      ]
    },
    {
      "cell_type": "markdown",
      "metadata": {
        "id": "Cvfz_llW2h93"
      },
      "source": [
        "#Archivos\n",
        "- abrirlos\n",
        "    - un str con la ruta del archivo\n",
        "    - dos caracteres: 1-> modo de apertura (r,w) y el 2 formato (texto o BBinario)\n",
        "\n",
        "- leer\n",
        "- manipular\n"
      ]
    },
    {
      "cell_type": "code",
      "metadata": {
        "id": "cutuMDp33GFM"
      },
      "source": [
        "archivo = open('ejemplo.txt','wt')#wt abre un archivo\n",
        "archivo.write(\"Hola mundo de archivos\")\n",
        "archivo.close()"
      ],
      "execution_count": 17,
      "outputs": []
    }
  ]
}