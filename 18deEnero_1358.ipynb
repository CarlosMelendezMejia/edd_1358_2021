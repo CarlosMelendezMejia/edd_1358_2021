{
  "nbformat": 4,
  "nbformat_minor": 0,
  "metadata": {
    "colab": {
      "name": "18deEnero_1358.ipynb",
      "provenance": [],
      "authorship_tag": "ABX9TyOh/R7gp6ImaKJ7hpb9Nq6b",
      "include_colab_link": true
    },
    "kernelspec": {
      "name": "python3",
      "display_name": "Python 3"
    }
  },
  "cells": [
    {
      "cell_type": "markdown",
      "metadata": {
        "id": "view-in-github",
        "colab_type": "text"
      },
      "source": [
        "<a href=\"https://colab.research.google.com/github/CarlosMelendezMejia/edd_1358_2021/blob/master/18deEnero_1358.ipynb\" target=\"_parent\"><img src=\"https://colab.research.google.com/assets/colab-badge.svg\" alt=\"Open In Colab\"/></a>"
      ]
    },
    {
      "cell_type": "code",
      "metadata": {
        "id": "bWBvyYQrdKmZ"
      },
      "source": [
        "class NodoArbol:\n",
        "    def __init__(self, value, left = None, right = None):\n",
        "        self.data = value\n",
        "        self.left = left\n",
        "        self.right = right"
      ],
      "execution_count": 1,
      "outputs": []
    },
    {
      "cell_type": "code",
      "metadata": {
        "id": "fBTs5U-ufMgU"
      },
      "source": [
        "class ArbolBinarioBusqueda:\n",
        "    def __init__(self):\n",
        "        self.__root = None\n",
        "\n",
        "    def insert(self,value):\n",
        "        if self.__root == None:\n",
        "            self.__root = NodoArbol(value)\n",
        "        else:\n",
        "            self.__insert__( self.__root, value)\n",
        "\n",
        "    def __insert__(self,nodo,value): #recursividad\n",
        "        if nodo.data == value:\n",
        "            print(\"El nodo ya existe, no se inserta \",value)\n",
        "        elif value < nodo.data:\n",
        "            #ir a la izquierda\n",
        "            if nodo.left == None:\n",
        "                nodo.left = NodoArbol(value)\n",
        "            else:\n",
        "                self.__insert__(nodo.left, value)\n",
        "        else:\n",
        "            #ir a la derecha\n",
        "            if nodo.right == None:\n",
        "                nodo.right = NodoArbol(value)\n",
        "            else:\n",
        "                self.__insert__(nodo.right, value)\n"
      ],
      "execution_count": 2,
      "outputs": []
    },
    {
      "cell_type": "code",
      "metadata": {
        "colab": {
          "base_uri": "https://localhost:8080/"
        },
        "id": "HI7PkdYJfPmK",
        "outputId": "77a835f5-a40c-4fcd-daea-4a89de22dc19"
      },
      "source": [
        "abb = ArbolBinarioBusqueda()\n",
        "abb.insert(40)\n",
        "abb.insert(40)\n",
        "abb.insert(30)\n",
        "abb.insert(30)"
      ],
      "execution_count": 3,
      "outputs": [
        {
          "output_type": "stream",
          "text": [
            "El nodo ya existe, no se inserta  40\n",
            "El nodo ya existe, no se inserta  30\n"
          ],
          "name": "stdout"
        }
      ]
    }
  ]
}