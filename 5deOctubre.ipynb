{
  "nbformat": 4,
  "nbformat_minor": 0,
  "metadata": {
    "colab": {
      "name": "5deOctubre.ipynb",
      "provenance": [],
      "authorship_tag": "ABX9TyNvHIZZyjsZmUG/IiXQAh7K",
      "include_colab_link": true
    },
    "kernelspec": {
      "name": "python3",
      "display_name": "Python 3"
    }
  },
  "cells": [
    {
      "cell_type": "markdown",
      "metadata": {
        "id": "view-in-github",
        "colab_type": "text"
      },
      "source": [
        "<a href=\"https://colab.research.google.com/github/CarlosMelendezMejia/edd_1358_2021/blob/master/5deOctubre.ipynb\" target=\"_parent\"><img src=\"https://colab.research.google.com/assets/colab-badge.svg\" alt=\"Open In Colab\"/></a>"
      ]
    },
    {
      "cell_type": "markdown",
      "metadata": {
        "id": "U_q16NolWrS5"
      },
      "source": [
        "#Continuación print"
      ]
    },
    {
      "cell_type": "code",
      "metadata": {
        "id": "3YwVxN1_TmW6",
        "outputId": "bcb086fc-2eba-4e69-b684-ebc52bf2c2cf",
        "colab": {
          "base_uri": "https://localhost:8080/",
          "height": 51
        }
      },
      "source": [
        "#Ejemplo\n",
        "precio = 12.5\n",
        "cantidad = 2\n",
        "existencia = True\n",
        "\n",
        "# precio de los cheetos $12.50 y quiero 2, hay? : True\n",
        "\n",
        "print(\"precio de los cheetos es de $\",precio,\" y quiero \",cantidad,\", hay? :\",existencia)\n",
        "\n",
        "# funcion format de la clase string\n",
        "\n",
        "print(\"precio de los cheetos {} y quiero {}, hay? : {}\".format(precio,cantidad,existencia))\n",
        "\n",
        "# operador F\n",
        "# conversion a format\n",
        "\n",
        "print(f\"precio de los cheetos {precio} y quiero {cantidad}, hay? : {existencia}\")"
      ],
      "execution_count": 7,
      "outputs": [
        {
          "output_type": "stream",
          "text": [
            " precio de los cheetos es de $ 12.5  y quiero  2 , hay? : True\n",
            " precio de los cheetos 12.5 y quiero 2, hay? : True\n"
          ],
          "name": "stdout"
        }
      ]
    },
    {
      "cell_type": "markdown",
      "metadata": {
        "id": "3jKZJtRGYSW3"
      },
      "source": [
        "# Listas\n",
        "declaracion [ ]\n",
        "\n",
        "\n",
        "selector [ ]\n",
        "\n",
        "\n",
        "mutable  \n",
        "\n",
        "\n",
        "# Tuplas\n",
        "declaracion ( )\n",
        "\n",
        "\n",
        "selector [ ]\n",
        "\n",
        "\n",
        "No mutable  \n",
        "\n",
        "\n",
        "# Diccionarios\n",
        "conjuntos de datos en pares de llave:valor\n",
        "\n",
        "\n",
        "son mutables\n",
        "\n",
        "\n",
        "equivalentes a los objetos JSON en Java\n",
        "\n",
        "#Conjuntos\n",
        "Grupo de elementos con la teoria de conjuntos\n",
        "\n",
        "\n",
        "Pueden ser operadas como conjuntos"
      ]
    },
    {
      "cell_type": "markdown",
      "metadata": {
        "id": "15nAwU7CZ1cZ"
      },
      "source": [
        "## Listas"
      ]
    },
    {
      "cell_type": "code",
      "metadata": {
        "id": "PoeRMqc4YTsT",
        "outputId": "905628ac-1bc8-4a57-f7f4-734cdf264951",
        "colab": {
          "base_uri": "https://localhost:8080/",
          "height": 357
        }
      },
      "source": [
        "#Listas\n",
        "\n",
        "materias = [\"CyP\",\"DAA\",\"EDD\",\"IS\",\"POO\"]\n",
        "print(materias)\n",
        "\n",
        "#Imprimir elementos mediante el indice y el slicing\n",
        "\n",
        "print(materias[0])\n",
        "print(materias[1])\n",
        "print(materias[::-1])\n",
        "\n",
        "#Separar  un string y almacenarlo en una lista\n",
        "\n",
        "fecha = \"05/Oct/20\"\n",
        "lista_fecha=[fecha.split(\"/\")]\n",
        "print(lista_fecha)\n",
        "\n",
        "#Crear un string a partir de una lista\n",
        "#\"sepador\".join(lista)\n",
        "\n",
        "lista_hora=[\"15\",\"22\",\"45\"]\n",
        "hora = \":\".join(lista_hora)\n",
        "print(hora)\n",
        "\n",
        "#las listas son mutables\n",
        "\n",
        "print(\"----------------------------\")\n",
        "print(materias)\n",
        "print(lista_fecha)\n",
        "print(lista_hora)\n",
        "\n",
        "#Cambiar elementos a la lista\n",
        "\n",
        "materias[0]=\"Computadoras y Programacion\"\n",
        "\n",
        "#añadir elementos al final de la lista\n",
        "\n",
        "materias.append(\"Calidad\")\n",
        "print(materias)\n",
        "\n",
        "#añadir elementos en cualquier posicion\n",
        "materias.insert(2,\"Emprendimiento\")\n",
        "print(materias)\n",
        "\n",
        "#sacar elementos\n",
        "materia = materias.pop()\n",
        "print(materia)\n",
        "print(materias)\n",
        "materia = materias.pop(1)\n",
        "print(materia)\n",
        "print(materias)\n",
        "\n",
        "#vaciar listas\n",
        "materias.clear()\n",
        "print(materias)\n",
        "\n",
        "#Slicing\n",
        "print(\"Slicing\")\n",
        "numeros = [0,1,2,3,4,5,6,7,8,9,10]\n",
        "print(numeros[4:9])\n",
        "#Sustituir un segmento con slicing [0,1,2,3,-2,9,10]\n",
        "#Sustituir un segmento de lista con otro segmento de lista\n",
        "numeros[4:9]=[-2,-3]\n",
        "print(numeros)"
      ],
      "execution_count": 36,
      "outputs": [
        {
          "output_type": "stream",
          "text": [
            "['CyP', 'DAA', 'EDD', 'IS', 'POO']\n",
            "CyP\n",
            "DAA\n",
            "['POO', 'IS', 'EDD', 'DAA', 'CyP']\n",
            "[['05', 'Oct', '20']]\n",
            "15:22:45\n",
            "----------------------------\n",
            "['CyP', 'DAA', 'EDD', 'IS', 'POO']\n",
            "[['05', 'Oct', '20']]\n",
            "['15', '22', '45']\n",
            "['Computadoras y Programacion', 'DAA', 'EDD', 'IS', 'POO', 'Calidad']\n",
            "['Computadoras y Programacion', 'DAA', 'Emprendimiento', 'EDD', 'IS', 'POO', 'Calidad']\n",
            "Calidad\n",
            "['Computadoras y Programacion', 'DAA', 'Emprendimiento', 'EDD', 'IS', 'POO']\n",
            "DAA\n",
            "['Computadoras y Programacion', 'Emprendimiento', 'EDD', 'IS', 'POO']\n",
            "[]\n",
            "Slicing\n",
            "[4, 5, 6, 7, 8]\n",
            "[0, 1, 2, 3, -2, -3, 9, 10]\n"
          ],
          "name": "stdout"
        }
      ]
    },
    {
      "cell_type": "markdown",
      "metadata": {
        "id": "oREB1eNUiziX"
      },
      "source": [
        "#Lista de 2 Dimensiones"
      ]
    },
    {
      "cell_type": "code",
      "metadata": {
        "id": "-tB0IBFEiL1s",
        "outputId": "7ac07ccd-b9c5-427c-9143-e9fc268808bd",
        "colab": {
          "base_uri": "https://localhost:8080/",
          "height": 51
        }
      },
      "source": [
        "autos=[\"Mazda\",\"Honda\",\"Akura\",\"Ford\",\"VW\"]\n",
        "telefonos=[\"Iphone\",\"Huawei\",\"Xiaomi\",\"Alcatel\"]\n",
        "sistemasOperativos = [\"Windows\",\"Linux\",\"Android\",\"iOS\",\"MacOS\"]\n",
        "\n",
        "lista_2d = [autos,telefonos,sistemasOperativos]\n",
        "print(lista_2d)\n",
        "print(lista_2d[1][1])"
      ],
      "execution_count": 37,
      "outputs": [
        {
          "output_type": "stream",
          "text": [
            "[['Mazda', 'Honda', 'Akura', 'Ford', 'VW'], ['Iphone', 'Huawei', 'Xiaomi', 'Alcatel'], ['Windows', 'Linux', 'Android', 'iOS', 'MacOS']]\n",
            "Huawei\n"
          ],
          "name": "stdout"
        }
      ]
    }
  ]
}