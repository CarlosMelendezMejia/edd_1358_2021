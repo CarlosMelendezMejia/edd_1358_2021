{
  "nbformat": 4,
  "nbformat_minor": 0,
  "metadata": {
    "colab": {
      "name": "Tarea9_1358.ipynb",
      "provenance": [],
      "authorship_tag": "ABX9TyNHIwvjHU4kLvBO3Hpjen3P",
      "include_colab_link": true
    },
    "kernelspec": {
      "name": "python3",
      "display_name": "Python 3"
    }
  },
  "cells": [
    {
      "cell_type": "markdown",
      "metadata": {
        "id": "view-in-github",
        "colab_type": "text"
      },
      "source": [
        "<a href=\"https://colab.research.google.com/github/CarlosMelendezMejia/edd_1358_2021/blob/master/Tarea9_1358.ipynb\" target=\"_parent\"><img src=\"https://colab.research.google.com/assets/colab-badge.svg\" alt=\"Open In Colab\"/></a>"
      ]
    },
    {
      "cell_type": "code",
      "metadata": {
        "id": "m41hMTNADtFk"
      },
      "source": [
        "class Queue:\n",
        "    def __init__(self):\n",
        "        self.__data = list()\n",
        "\n",
        "    def is_empty(self):\n",
        "        return len(self.__data) == 0\n",
        "\n",
        "    def length(self):\n",
        "        return len(self.__data)\n",
        "\n",
        "    def enqueue(self, item):\n",
        "        self.__data.append(item)\n",
        "\n",
        "    def dequeue(self):\n",
        "        if not self.is_empty():\n",
        "            return self.__data.pop(0)\n",
        "        else:\n",
        "            return None\n",
        "\n",
        "    def to_String(self):\n",
        "        cadena = \"\"\n",
        "        for elem in self.__data:\n",
        "            cadena = cadena + \"| \" + elem\n",
        "        cadena = cadena + \" |\"\n",
        "        return cadena"
      ],
      "execution_count": 1,
      "outputs": []
    },
    {
      "cell_type": "code",
      "metadata": {
        "id": "QMma3QmTDw4e"
      },
      "source": [
        "class BoundedPriorityQueue:\n",
        "    def __init__(self, niveles):\n",
        "        self.__data = [Queue() for x in range(niveles)]\n",
        "        self.__size = 0\n",
        "\n",
        "    def is_empty(self):\n",
        "        return self.__size == 0\n",
        "\n",
        "    def queues_are_empty(self):\n",
        "        FilasVacias = True\n",
        "        for fila in self.__data:\n",
        "            if not fila.is_empty():\n",
        "                FilasVacias = False\n",
        "        return FilasVacias\n",
        "\n",
        "    def length(self):\n",
        "        return self.__size\n",
        "\n",
        "    def enqueue(self, prioridad, elem):\n",
        "        if prioridad < len(self.__data) and prioridad >= 0:\n",
        "            self.__data[prioridad].enqueue(elem)\n",
        "            self.__size += 1\n",
        "        else:\n",
        "            print(\"Prioridad fuera de rango.\")\n",
        "\n",
        "    def dequeue(self):\n",
        "        if not self.is_empty():\n",
        "            nivel = 0\n",
        "            while self.__data[nivel].is_empty():\n",
        "                nivel += 1\n",
        "            return self.__data[nivel].dequeue()\n",
        "\n",
        "    def to_String(self):\n",
        "        for nivel in range(len(self.__data)):\n",
        "            print(f\"Nivel {nivel} --> {self.__data[nivel].to_String()}\")"
      ],
      "execution_count": 2,
      "outputs": []
    },
    {
      "cell_type": "code",
      "metadata": {
        "colab": {
          "base_uri": "https://localhost:8080/"
        },
        "id": "V1DY2jv6D2OU",
        "outputId": "8c181b6d-8286-4804-b050-f7db2826bd46"
      },
      "source": [
        "barco = BoundedPriorityQueue(6)\n",
        "\n",
        "tripulantes = [(4, \"Maestre\"), (2, \"Niños\"), (4, \"Mecanico\"), (3, \"Hombres\"), (4, \"Vigia\"), (5, \"Capitan\"),\n",
        "               (4, \"Timonel\"), (3, \"Mujeres\"), (2, \"3ra Edad\"), (1, \"Niñas\")]\n",
        "\n",
        "for elem in tripulantes:\n",
        "    barco.enqueue(elem[0],elem[1])\n",
        "    print(f\"Ha ingresado {elem[1]} en el nivel {elem[0]}\")\n",
        "    print()\n",
        "\n",
        "barco.to_String()\n",
        "print()\n",
        "\n",
        "while not barco.queues_are_empty():\n",
        "    bajo = barco.dequeue()\n",
        "    print(f\"{bajo} dejo el barco\")\n",
        "    print()\n",
        "print(\"El barco ha sido evacuado por completo\")"
      ],
      "execution_count": 3,
      "outputs": [
        {
          "output_type": "stream",
          "text": [
            "Ha ingresado Maestre en el nivel 4\n",
            "\n",
            "Ha ingresado Niños en el nivel 2\n",
            "\n",
            "Ha ingresado Mecanico en el nivel 4\n",
            "\n",
            "Ha ingresado Hombres en el nivel 3\n",
            "\n",
            "Ha ingresado Vigia en el nivel 4\n",
            "\n",
            "Ha ingresado Capitan en el nivel 5\n",
            "\n",
            "Ha ingresado Timonel en el nivel 4\n",
            "\n",
            "Ha ingresado Mujeres en el nivel 3\n",
            "\n",
            "Ha ingresado 3ra Edad en el nivel 2\n",
            "\n",
            "Ha ingresado Niñas en el nivel 1\n",
            "\n",
            "Nivel 0 -->  |\n",
            "Nivel 1 --> | Niñas |\n",
            "Nivel 2 --> | Niños| 3ra Edad |\n",
            "Nivel 3 --> | Hombres| Mujeres |\n",
            "Nivel 4 --> | Maestre| Mecanico| Vigia| Timonel |\n",
            "Nivel 5 --> | Capitan |\n",
            "\n",
            "Niñas dejo el barco\n",
            "\n",
            "Niños dejo el barco\n",
            "\n",
            "3ra Edad dejo el barco\n",
            "\n",
            "Hombres dejo el barco\n",
            "\n",
            "Mujeres dejo el barco\n",
            "\n",
            "Maestre dejo el barco\n",
            "\n",
            "Mecanico dejo el barco\n",
            "\n",
            "Vigia dejo el barco\n",
            "\n",
            "Timonel dejo el barco\n",
            "\n",
            "Capitan dejo el barco\n",
            "\n",
            "El barco ha sido evacuado por completo\n"
          ],
          "name": "stdout"
        }
      ]
    }
  ]
}