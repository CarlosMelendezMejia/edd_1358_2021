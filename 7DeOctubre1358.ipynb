{
  "nbformat": 4,
  "nbformat_minor": 0,
  "metadata": {
    "colab": {
      "name": "7DeOctubre1358.ipynb",
      "provenance": [],
      "authorship_tag": "ABX9TyMydWvx2B8yuC7SmVgWCWzo",
      "include_colab_link": true
    },
    "kernelspec": {
      "name": "python3",
      "display_name": "Python 3"
    }
  },
  "cells": [
    {
      "cell_type": "markdown",
      "metadata": {
        "id": "view-in-github",
        "colab_type": "text"
      },
      "source": [
        "<a href=\"https://colab.research.google.com/github/CarlosMelendezMejia/edd_1358_2021/blob/master/7DeOctubre1358.ipynb\" target=\"_parent\"><img src=\"https://colab.research.google.com/assets/colab-badge.svg\" alt=\"Open In Colab\"/></a>"
      ]
    },
    {
      "cell_type": "code",
      "metadata": {
        "id": "95UyZIxknHVc",
        "outputId": "bf5f8e96-9dfc-46a1-d485-937c48195e5e",
        "colab": {
          "base_uri": "https://localhost:8080/"
        }
      },
      "source": [
        "#Listas multidimension\n",
        "\n",
        "autos = [\"Mazda\",\"honda\",\"Akura\",\"Ford\",\"VW\"]\n",
        "telefonos = [\"iPhone\",\"Huawei Mate 30\", \"Xiaomi S10\",\"Alcatel t1000\"]\n",
        "sistemas_operativos = [ \"Windows\", \"Linux\" , \"Android\" , \"iOS\" ,\"MacOs\" ]\n",
        "procesadores = [[\"Intel\",3.1,True],[\"AMD\",2.7,True],[\"Motorola\",1.1,False]]\n",
        "\n",
        "#Ejercicios de listas\n",
        "\n",
        "lista_nd = [autos,telefonos,sistemas_operativos,procesadores]\n",
        "print(lista_nd)\n",
        "print(lista_nd[1][1][3:6:1])\n",
        "print(lista_nd[3][1][1])\n",
        "print(lista_nd[3][2][0][2:6])\n",
        "print(lista_nd[3][0][0][3:0:-1])\n",
        "\n",
        "\n",
        "#Concatenacion de listas\n",
        "\n",
        "colores = [\"rojo\",\"verde\",\"azul\",\"negro\"]\n",
        "flores = [\"margarita\",\"rosa\"]\n",
        "nueva = colores + flores\n",
        "print(nueva)\n",
        "print(colores)\n",
        "print(flores)\n",
        "colores.extend(flores)\n",
        "print(colores)\n",
        "\n",
        "#unpacking de listas\n",
        "\n",
        "print(\"Unpacking\")\n",
        "datos_personales=[\"Jose\",\"Perez\",\"Juarez\",22,1.67,True]\n",
        "nombre , paterno , materno, edad ,est,fuma=datos_personales\n",
        "print(f\"Nombre: {nombre} \\nedad: {edad}\")\n"
      ],
      "execution_count": 20,
      "outputs": [
        {
          "output_type": "stream",
          "text": [
            "[['Mazda', 'honda', 'Akura', 'Ford', 'VW'], ['iPhone', 'Huawei Mate 30', 'Xiaomi S10', 'Alcatel t1000'], ['Windows', 'Linux', 'Android', 'iOS', 'MacOs'], [['Intel', 3.1, True], ['AMD', 2.7, True], ['Motorola', 1.1, False]]]\n",
            "wei\n",
            "2.7\n",
            "toro\n",
            "etn\n",
            "['rojo', 'verde', 'azul', 'negro', 'margarita', 'rosa']\n",
            "['rojo', 'verde', 'azul', 'negro']\n",
            "['margarita', 'rosa']\n",
            "['rojo', 'verde', 'azul', 'negro', 'margarita', 'rosa']\n",
            "Unpacking\n",
            "Nombre: Jose \n",
            "edad: 22\n"
          ],
          "name": "stdout"
        }
      ]
    },
    {
      "cell_type": "markdown",
      "metadata": {
        "id": "9CwaxQ_Dt6JS"
      },
      "source": [
        "#Tuplas"
      ]
    },
    {
      "cell_type": "code",
      "metadata": {
        "id": "oKvv1yjVt9ST",
        "outputId": "dda1bac0-d04f-4619-81a9-75a50ca313fb",
        "colab": {
          "base_uri": "https://localhost:8080/"
        }
      },
      "source": [
        "#Tupla\n",
        "#Se usa para datos de consulta\n",
        "#Conjunto de constantes\n",
        "\n",
        "bd=('127.0.0.1','root','toor','1345')\n",
        "print(f\"usuario de la base de datos es {bd[1]}\")\n",
        "\n",
        "#bd[1]='user1'\n",
        "\n",
        "#Slicing en tuplas\n",
        "\n",
        "print(bd[1:3])\n"
      ],
      "execution_count": 23,
      "outputs": [
        {
          "output_type": "stream",
          "text": [
            "usuario de la base de datos es root\n",
            "('root', 'toor')\n"
          ],
          "name": "stdout"
        }
      ]
    },
    {
      "cell_type": "markdown",
      "metadata": {
        "id": "OVTLzoeIwTBp"
      },
      "source": [
        "#Diccionarios"
      ]
    },
    {
      "cell_type": "code",
      "metadata": {
        "id": "FPn_N1SswVob",
        "outputId": "6849b24d-030c-4421-fcaf-0b52bdd61304",
        "colab": {
          "base_uri": "https://localhost:8080/"
        }
      },
      "source": [
        "#Diccionarios\n",
        "#Consultar a traves del indice\n",
        "alumno = {'nombre':'Juan','edad':22,'carrera':'ICO'}\n",
        "print(alumno)\n",
        "print(alumno['edad'])\n",
        "#Diccionarios anidados\n",
        "\n",
        "alumno = {\n",
        "    'nombre':'Juan',\n",
        "    'edad':22,\n",
        "    'carrera':'ICO',\n",
        "    'direccion': {'calle':'bosques de africa',\n",
        "                  'numero':33,\n",
        "                  'delegacion':'Nezahualcoyotl',\n",
        "                  'estado':15,\n",
        "                  'nombre_estado':'Estado de Mexico'\n",
        "                  }\n",
        "    }\n",
        "print(alumno['direccion']['delegacion'])\n",
        "print(alumno['direccion']['delegacion'][3:7].upper())\n",
        "\n",
        "#Modificar diccionario\n",
        "\n",
        "alumno['edad']=35\n",
        "\n",
        "#Agregar elementos al diccionario\n",
        "\n",
        "alumno['promedio']=9.9\n",
        "alumno['direccion']['cp']=17170\n",
        "alumno['materia']={'nombre':'CyP','calificacion':10}\n",
        "print(alumno)\n",
        "\n",
        "\n",
        "cliente={  'id' :  1,  'nombre' : 'Carlos Slim'}\n",
        "print(cliente)\n"
      ],
      "execution_count": 39,
      "outputs": [
        {
          "output_type": "stream",
          "text": [
            "{'nombre': 'Juan', 'edad': 22, 'carrera': 'ICO'}\n",
            "22\n",
            "Nezahualcoyotl\n",
            "AHUA\n",
            "{'nombre': 'Juan', 'edad': 35, 'carrera': 'ICO', 'direccion': {'calle': 'bosques de africa', 'numero': 33, 'delegacion': 'Nezahualcoyotl', 'estado': 15, 'nombre_estado': 'Estado de Mexico', 'cp': 17170}, 'promedio': 9.9, 'materia': {'nombre': 'CyP', 'calificacion': 10}}\n",
            "{'id': 1, 'nombre': 'Carlos Slim'}\n"
          ],
          "name": "stdout"
        }
      ]
    }
  ]
}