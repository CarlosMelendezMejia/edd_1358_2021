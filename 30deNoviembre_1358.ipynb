{
  "nbformat": 4,
  "nbformat_minor": 0,
  "metadata": {
    "colab": {
      "name": "30deNoviembre_1358.ipynb",
      "provenance": [],
      "authorship_tag": "ABX9TyPpJ2MMTnDG8usSohFFrfjw",
      "include_colab_link": true
    },
    "kernelspec": {
      "name": "python3",
      "display_name": "Python 3"
    }
  },
  "cells": [
    {
      "cell_type": "markdown",
      "metadata": {
        "id": "view-in-github",
        "colab_type": "text"
      },
      "source": [
        "<a href=\"https://colab.research.google.com/github/CarlosMelendezMejia/edd_1358_2021/blob/master/30deNoviembre_1358.ipynb\" target=\"_parent\"><img src=\"https://colab.research.google.com/assets/colab-badge.svg\" alt=\"Open In Colab\"/></a>"
      ]
    },
    {
      "cell_type": "code",
      "metadata": {
        "id": "_ujV7SWrJ3Ds"
      },
      "source": [
        "class Stack:\n",
        "    def __init__(self):\n",
        "        self.__data = []\n",
        "        self.__size = 0\n",
        "\n",
        "    def pop(self):\n",
        "        return self.__data.pop()\n",
        "\n",
        "    def peak(self):\n",
        "        return self.__data[-1]\n",
        "\n",
        "    def push(self,value):\n",
        "        self.__data.append(value)\n",
        "\n",
        "    def to_string(self):\n",
        "        print(\"-\"*6)\n",
        "        for dato in self.__data[::-1]:\n",
        "            print(f\"| {dato} |\")\n",
        "            print(\"-\" * 6)\n",
        "        print(\"\")"
      ],
      "execution_count": 1,
      "outputs": []
    },
    {
      "cell_type": "code",
      "metadata": {
        "colab": {
          "base_uri": "https://localhost:8080/"
        },
        "id": "dTVMZ43FJ9Vq",
        "outputId": "05895a56-c865-48b9-b7ad-d72fed7c23e3"
      },
      "source": [
        "pl = Stack()\n",
        "pl.push(34)\n",
        "pl.push(10)\n",
        "pl.push(45)\n",
        "pl.push(34)\n",
        "pl.push(23)\n",
        "pl.push(33)\n",
        "pl.to_string()\n",
        "\n",
        "valor = pl.pop()\n",
        "print(valor * 2)\n",
        "pl.to_string()\n",
        "\n",
        "valor = pl.peak()\n",
        "print(valor * 2)\n",
        "pl.to_string()"
      ],
      "execution_count": 2,
      "outputs": [
        {
          "output_type": "stream",
          "text": [
            "------\n",
            "| 33 |\n",
            "------\n",
            "| 23 |\n",
            "------\n",
            "| 34 |\n",
            "------\n",
            "| 45 |\n",
            "------\n",
            "| 10 |\n",
            "------\n",
            "| 34 |\n",
            "------\n",
            "\n",
            "66\n",
            "------\n",
            "| 23 |\n",
            "------\n",
            "| 34 |\n",
            "------\n",
            "| 45 |\n",
            "------\n",
            "| 10 |\n",
            "------\n",
            "| 34 |\n",
            "------\n",
            "\n",
            "46\n",
            "------\n",
            "| 23 |\n",
            "------\n",
            "| 34 |\n",
            "------\n",
            "| 45 |\n",
            "------\n",
            "| 10 |\n",
            "------\n",
            "| 34 |\n",
            "------\n",
            "\n"
          ],
          "name": "stdout"
        }
      ]
    },
    {
      "cell_type": "code",
      "metadata": {
        "colab": {
          "base_uri": "https://localhost:8080/"
        },
        "id": "ojm0eI9xKAXm",
        "outputId": "f1dbefa8-7620-4e07-fe74-b541bedd5fa4"
      },
      "source": [
        "#Aplicaciones de la estructura stack\n",
        "#1. Validacion de parentesis balanceados ( ,{ y [\n",
        "\n",
        "b = \"3*(5+(4/2))\"\n",
        "\n",
        "pila = Stack()\n",
        "pila.push('#') #Caracter de pila vacia\n",
        "\n",
        "for elem in b:\n",
        "    if elem == '(':\n",
        "        pila.push(\"*\")\n",
        "    elif elem == ')':\n",
        "        pila.pop()\n",
        "    else:\n",
        "        pass\n",
        "if pila.peak() == \"#\":\n",
        "    print(\"La expresion esta balanceada en parentesis\")\n",
        "else:\n",
        "    print(\"La expresion no esta balanceada\")"
      ],
      "execution_count": 3,
      "outputs": [
        {
          "output_type": "stream",
          "text": [
            "La expresion esta balanceada en parentesis\n"
          ],
          "name": "stdout"
        }
      ]
    }
  ]
}