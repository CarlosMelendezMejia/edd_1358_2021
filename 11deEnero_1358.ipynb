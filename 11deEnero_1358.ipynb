{
  "nbformat": 4,
  "nbformat_minor": 0,
  "metadata": {
    "colab": {
      "name": "11deEnero_1358.ipynb",
      "provenance": [],
      "authorship_tag": "ABX9TyP80k6IfAmhw0Gw+3zB03cD",
      "include_colab_link": true
    },
    "kernelspec": {
      "name": "python3",
      "display_name": "Python 3"
    }
  },
  "cells": [
    {
      "cell_type": "markdown",
      "metadata": {
        "id": "view-in-github",
        "colab_type": "text"
      },
      "source": [
        "<a href=\"https://colab.research.google.com/github/CarlosMelendezMejia/edd_1358_2021/blob/master/11deEnero_1358.ipynb\" target=\"_parent\"><img src=\"https://colab.research.google.com/assets/colab-badge.svg\" alt=\"Open In Colab\"/></a>"
      ]
    },
    {
      "cell_type": "code",
      "metadata": {
        "id": "qkteqNjiRYj_"
      },
      "source": [
        "class NodoArbol:\n",
        "    def __init__(self,dato,hijo_izq = None,hijo_der = None):\n",
        "        self.dato = dato\n",
        "        self.hijo_izq = hijo_izq\n",
        "        self.hijo_der = hijo_der\n"
      ],
      "execution_count": 1,
      "outputs": []
    },
    {
      "cell_type": "code",
      "metadata": {
        "id": "rwZ2mm-HRaxA"
      },
      "source": [
        "arbol = NodoArbol(\"R\") # es igual a NodoArbol(\"R\",None,None)\n",
        "arbolhijo_izq = NodoArbol(\"C\")\n",
        "arbolhijo_der = NodoArbol(\"H\")"
      ],
      "execution_count": 2,
      "outputs": []
    },
    {
      "cell_type": "code",
      "metadata": {
        "colab": {
          "base_uri": "https://localhost:8080/"
        },
        "id": "kLIrRJfITXnV",
        "outputId": "1baa6863-b59b-4457-e15d-fbb1de37b44a"
      },
      "source": [
        "arbol_v2 = NodoArbol(\"R\",NodoArbol(\"C\"),NodoArbol(\"H\"))\n",
        "\n",
        "print(arbol_v2.dato)\n",
        "print(arbol_v2.hijo_izq.dato)\n",
        "print(arbol_v2.hijo_der.dato)\n"
      ],
      "execution_count": 3,
      "outputs": [
        {
          "output_type": "stream",
          "text": [
            "R\n",
            "C\n",
            "H\n"
          ],
          "name": "stdout"
        }
      ]
    },
    {
      "cell_type": "code",
      "metadata": {
        "colab": {
          "base_uri": "https://localhost:8080/"
        },
        "id": "AcpNVkx7TY0U",
        "outputId": "83a99ad6-9882-441f-ec60-25db949b01ff"
      },
      "source": [
        "#Ejercicio 2\n",
        "arbol2 = NodoArbol(4,NodoArbol(3,NodoArbol(2,NodoArbol(2))),NodoArbol(5))\n",
        "\n",
        "print(arbol2.dato)\n",
        "print(arbol2.hijo_izq.dato)\n",
        "print(arbol2.hijo_der.dato)\n",
        "print(arbol2.hijo_izq.hijo_izq.dato)\n",
        "print(arbol2.hijo_izq.hijo_izq.hijo_izq.dato)\n",
        "\n",
        "aux = arbol2\n",
        "while aux.hijo_izq != None:\n",
        "    aux = aux.hijo_izq\n",
        "print(aux.dato)"
      ],
      "execution_count": 7,
      "outputs": [
        {
          "output_type": "stream",
          "text": [
            "4\n",
            "3\n",
            "5\n",
            "2\n",
            "2\n",
            "2\n"
          ],
          "name": "stdout"
        }
      ]
    },
    {
      "cell_type": "code",
      "metadata": {
        "colab": {
          "base_uri": "https://localhost:8080/"
        },
        "id": "FVCjeXb8Vweq",
        "outputId": "762a7d08-65b5-4791-fe0f-c0d41b52c6bd"
      },
      "source": [
        "arbol3 = NodoArbol(\"Santi\",None,NodoArbol(\"Jesus\",NodoArbol(\"Pedro\",None,NodoArbol(\"Pedro\"))))\n",
        "\n",
        "print(arbol3.dato)\n",
        "print(arbol3.hijo_der.dato)\n",
        "print(arbol3.hijo_der.hijo_izq.dato)\n",
        "print(arbol3.hijo_der.hijo_izq.hijo_der.dato)"
      ],
      "execution_count": 8,
      "outputs": [
        {
          "output_type": "stream",
          "text": [
            "Santi\n",
            "Jesus\n",
            "Pedro\n",
            "Pedro\n"
          ],
          "name": "stdout"
        }
      ]
    },
    {
      "cell_type": "code",
      "metadata": {
        "colab": {
          "base_uri": "https://localhost:8080/"
        },
        "id": "uxn2amgacy4P",
        "outputId": "c1d96fdb-be0b-457b-a6f9-1409d8123ff6"
      },
      "source": [
        "class NodoArbolTriple:\n",
        "    def __init__(self, dato, hijo_izq=None, hijo_medio=None, hijo_der=None):\n",
        "        self.dato = dato\n",
        "        self.hijo_izq = hijo_izq\n",
        "        self.hijo_med = hijo_medio\n",
        "        self.hijo_der = hijo_der\n",
        "\n",
        "\n",
        "arbol4 = NodoArbolTriple(\"R\", NodoArbolTriple(\"I\", NodoArbolTriple(\"X\")), NodoArbolTriple(\"C\", NodoArbolTriple(\"Y\")),\n",
        "                         NodoArbolTriple(\"D\", None, None, NodoArbolTriple(\"Z\")))\n",
        "\n",
        "print(arbol4.dato)\n",
        "print(arbol4.hijo_izq.dato, arbol4.hijo_med.dato, arbol4.hijo_der.dato)\n",
        "print(arbol4.hijo_izq.hijo_izq.dato, arbol4.hijo_med.hijo_izq.dato, arbol4.hijo_der.hijo_der.dato)\n"
      ],
      "execution_count": 9,
      "outputs": [
        {
          "output_type": "stream",
          "text": [
            "R\n",
            "I C D\n",
            "X Y Z\n"
          ],
          "name": "stdout"
        }
      ]
    }
  ]
}