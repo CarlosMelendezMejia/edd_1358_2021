{
  "nbformat": 4,
  "nbformat_minor": 0,
  "metadata": {
    "colab": {
      "name": "Tarea10_1358.ipynb",
      "provenance": [],
      "authorship_tag": "ABX9TyNTtVf8/V+8H76yh2G63X36",
      "include_colab_link": true
    },
    "kernelspec": {
      "name": "python3",
      "display_name": "Python 3"
    }
  },
  "cells": [
    {
      "cell_type": "markdown",
      "metadata": {
        "id": "view-in-github",
        "colab_type": "text"
      },
      "source": [
        "<a href=\"https://colab.research.google.com/github/CarlosMelendezMejia/edd_1358_2021/blob/master/Tarea10_1358.ipynb\" target=\"_parent\"><img src=\"https://colab.research.google.com/assets/colab-badge.svg\" alt=\"Open In Colab\"/></a>"
      ]
    },
    {
      "cell_type": "code",
      "metadata": {
        "colab": {
          "base_uri": "https://localhost:8080/"
        },
        "id": "nQQlRWis-FMj",
        "outputId": "4add93c9-5404-4fda-f6c8-58c5db62ef0f"
      },
      "source": [
        "l = [5,5,5,5,5,5]\n",
        "\n",
        "def sumalista(lista):\n",
        "    if len(lista) == 0:\n",
        "        return 0\n",
        "    else:\n",
        "        valor = lista.pop()\n",
        "        return valor + sumalista(lista)\n",
        "\n",
        "print(sumalista(l))"
      ],
      "execution_count": 3,
      "outputs": [
        {
          "output_type": "stream",
          "text": [
            "30\n"
          ],
          "name": "stdout"
        }
      ]
    },
    {
      "cell_type": "code",
      "metadata": {
        "colab": {
          "base_uri": "https://localhost:8080/"
        },
        "id": "VWSthERN-VU0",
        "outputId": "020be0f7-ca72-4103-b75d-6352a6dc823d"
      },
      "source": [
        "def cont (n):\n",
        "    if n == 0:\n",
        "        return \"La bomba exploto!!!\"\n",
        "    else:\n",
        "        print(n)\n",
        "        return cont(n-1)\n",
        "\n",
        "print(cont(15))\n"
      ],
      "execution_count": 2,
      "outputs": [
        {
          "output_type": "stream",
          "text": [
            "15\n",
            "14\n",
            "13\n",
            "12\n",
            "11\n",
            "10\n",
            "9\n",
            "8\n",
            "7\n",
            "6\n",
            "5\n",
            "4\n",
            "3\n",
            "2\n",
            "1\n",
            "La bomba exploto!!!\n"
          ],
          "name": "stdout"
        }
      ]
    },
    {
      "cell_type": "code",
      "metadata": {
        "colab": {
          "base_uri": "https://localhost:8080/"
        },
        "id": "axINxKNN-Xr2",
        "outputId": "5176f4eb-cd3f-49eb-c3f6-247a2d8147b9"
      },
      "source": [
        "class Stack:\n",
        "    def __init__(self):\n",
        "        self.__data = []\n",
        "        self.__size = 0\n",
        "\n",
        "    def pop(self):\n",
        "        self.__size = self.__size - 1\n",
        "        return self.__data.pop()\n",
        "\n",
        "    def get_size(self):\n",
        "        return self.__size\n",
        "\n",
        "    def peak(self):\n",
        "        if len(self.__data) > 0:\n",
        "            return self.__data[-1]\n",
        "        else:\n",
        "            return None\n",
        "\n",
        "    def push(self,value):\n",
        "        self.__data.append(value)\n",
        "        self.__size += 1\n",
        "\n",
        "    def to_string(self):\n",
        "        print(\"-\"*6)\n",
        "        for dato in self.__data[::-1]:\n",
        "            print(f\"| {dato} |\")\n",
        "            print(\"-\" * 6)\n",
        "        print(\"\")\n",
        "\n",
        "\n",
        "p = Stack()\n",
        "for n in range(7):\n",
        "    p.push(n)\n",
        "\n",
        "p.to_string()\n",
        "\n",
        "\n",
        "def extraer_elemento_medio(pila,mitad):\n",
        "    m = mitad\n",
        "    if pila.get_size() == m:\n",
        "        pila.pop()\n",
        "    else:\n",
        "        valor = pila.pop()\n",
        "        extraer_elemento_medio(pila,m)\n",
        "        pila.push(valor)\n",
        "\n",
        "def mitad(pila):\n",
        "    return round(pila.get_size() / 2)\n",
        "\n",
        "\n",
        "extraer_elemento_medio(p,mitad(p))\n",
        "p.to_string()\n",
        "\n"
      ],
      "execution_count": 4,
      "outputs": [
        {
          "output_type": "stream",
          "text": [
            "------\n",
            "| 6 |\n",
            "------\n",
            "| 5 |\n",
            "------\n",
            "| 4 |\n",
            "------\n",
            "| 3 |\n",
            "------\n",
            "| 2 |\n",
            "------\n",
            "| 1 |\n",
            "------\n",
            "| 0 |\n",
            "------\n",
            "\n",
            "------\n",
            "| 6 |\n",
            "------\n",
            "| 5 |\n",
            "------\n",
            "| 4 |\n",
            "------\n",
            "| 2 |\n",
            "------\n",
            "| 1 |\n",
            "------\n",
            "| 0 |\n",
            "------\n",
            "\n"
          ],
          "name": "stdout"
        }
      ]
    }
  ]
}