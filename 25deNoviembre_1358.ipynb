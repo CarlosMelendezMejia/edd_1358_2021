{
  "nbformat": 4,
  "nbformat_minor": 0,
  "metadata": {
    "colab": {
      "name": "25deNoviembre_1358",
      "provenance": [],
      "authorship_tag": "ABX9TyNBM7hupRwyn9+OzyjsUdDP",
      "include_colab_link": true
    },
    "kernelspec": {
      "name": "python3",
      "display_name": "Python 3"
    }
  },
  "cells": [
    {
      "cell_type": "markdown",
      "metadata": {
        "id": "view-in-github",
        "colab_type": "text"
      },
      "source": [
        "<a href=\"https://colab.research.google.com/github/CarlosMelendezMejia/edd_1358_2021/blob/master/25deNoviembre_1358.ipynb\" target=\"_parent\"><img src=\"https://colab.research.google.com/assets/colab-badge.svg\" alt=\"Open In Colab\"/></a>"
      ]
    },
    {
      "cell_type": "code",
      "metadata": {
        "id": "r_QHh6R5bl0G"
      },
      "source": [
        "class NodoDoble:\n",
        "    def __init__(self, value, previo=None, siguiente=None):\n",
        "        self.data = value\n",
        "        self.prev = previo\n",
        "        self.next = siguiente\n",
        "\n",
        "class DoubleLinkedList:\n",
        "    def __init__(self):\n",
        "        self.__head = None\n",
        "        self.__tail = None\n",
        "        self.__size = 0\n",
        "\n",
        "    def get_size(self):\n",
        "        return self.__size\n",
        "\n",
        "    def is_empty(self):\n",
        "        return self.__size == 0\n",
        "\n",
        "    def append(self,value):\n",
        "        if self.is_empty():\n",
        "            nuevo = NodoDoble(value)\n",
        "            self.__head = nuevo\n",
        "            self.__tail = nuevo\n",
        "        else:\n",
        "            nuevo = NodoDoble(value,self.__tail)\n",
        "            self.__tail.next = nuevo\n",
        "            self.__tail = nuevo\n",
        "        self.__size += 1\n",
        "\n",
        "    def transversal(self):\n",
        "        curr_node = self.__head\n",
        "        while curr_node != None:\n",
        "            print(\"<---\",curr_node.data,\"---->\",end=\"\")\n",
        "            curr_node = curr_node.next\n",
        "        print(\"\")\n",
        "\n",
        "    def reverse_transversal(self):\n",
        "        curr_node = self.__tail\n",
        "        while curr_node != None:\n",
        "            print(\"<---\",curr_node.data,\"---->\",end=\"\")\n",
        "            curr_node = curr_node.prev\n",
        "        print(\"\")\n",
        "\n",
        "    def find_from_head(self,value):\n",
        "        curr_node = self.__head\n",
        "        cont = 0\n",
        "        while curr_node != None:\n",
        "            cont += 1\n",
        "            if curr_node.data == value:\n",
        "                break\n",
        "            curr_node = curr_node.next\n",
        "        return cont\n",
        "\n",
        "    def find_from_tail(self,value):\n",
        "        curr_node = self.__tail\n",
        "        cont = 0\n",
        "        while curr_node != None:\n",
        "            cont += 1\n",
        "            if curr_node.data == value:\n",
        "                break\n",
        "            curr_node = curr_node.prev\n",
        "        return cont\n",
        "\n",
        "    def remove_from_head(self,value):\n",
        "        curr_node = self.__head\n",
        "        while curr_node != None:\n",
        "            if self.__head.data == value:\n",
        "                self.__head = self.__head.next\n",
        "                self.__head.prev = None\n",
        "                break\n",
        "            if curr_node.next != None and curr_node.next.data == value:\n",
        "                anterior = curr_node\n",
        "                anterior.next = curr_node.next.next\n",
        "                anterior.next.prev = anterior\n",
        "                break\n",
        "            curr_node = curr_node.next\n",
        "        self.transversal()"
      ],
      "execution_count": 1,
      "outputs": []
    },
    {
      "cell_type": "code",
      "metadata": {
        "colab": {
          "base_uri": "https://localhost:8080/"
        },
        "id": "TRTQNn7dbqfC",
        "outputId": "8485dd3a-63b2-4801-c45f-7b3bab7056d3"
      },
      "source": [
        "ldl = DoubleLinkedList()\n",
        "print(ldl.get_size())\n",
        "for i in range(10,60,10):\n",
        "    ldl.append(i)\n",
        "print(ldl.get_size())\n",
        "ldl.transversal()\n",
        "ldl.reverse_transversal()\n",
        "print(ldl.find_from_head(40))\n",
        "print(ldl.find_from_tail(40))\n",
        "ldl.remove_from_head(20)\n"
      ],
      "execution_count": 2,
      "outputs": [
        {
          "output_type": "stream",
          "text": [
            "0\n",
            "5\n",
            "<--- 10 ----><--- 20 ----><--- 30 ----><--- 40 ----><--- 50 ---->\n",
            "<--- 50 ----><--- 40 ----><--- 30 ----><--- 20 ----><--- 10 ---->\n",
            "4\n",
            "2\n",
            "<--- 10 ----><--- 30 ----><--- 40 ----><--- 50 ---->\n"
          ],
          "name": "stdout"
        }
      ]
    }
  ]
}