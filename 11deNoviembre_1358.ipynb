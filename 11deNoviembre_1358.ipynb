{
  "nbformat": 4,
  "nbformat_minor": 0,
  "metadata": {
    "colab": {
      "name": "11deNoviembre_1358.ipynb",
      "provenance": [],
      "authorship_tag": "ABX9TyPUMew7Fr2amNdr3hEbMHub",
      "include_colab_link": true
    },
    "kernelspec": {
      "name": "python3",
      "display_name": "Python 3"
    }
  },
  "cells": [
    {
      "cell_type": "markdown",
      "metadata": {
        "id": "view-in-github",
        "colab_type": "text"
      },
      "source": [
        "<a href=\"https://colab.research.google.com/github/CarlosMelendezMejia/edd_1358_2021/blob/master/11deNoviembre_1358.ipynb\" target=\"_parent\"><img src=\"https://colab.research.google.com/assets/colab-badge.svg\" alt=\"Open In Colab\"/></a>"
      ]
    },
    {
      "cell_type": "markdown",
      "metadata": {
        "id": "uWraSnsgK9AP"
      },
      "source": [
        "#Nodos"
      ]
    },
    {
      "cell_type": "code",
      "metadata": {
        "id": "UDaoaycPEm0A",
        "outputId": "ac924477-2293-406b-acf2-1ce7ec834734",
        "colab": {
          "base_uri": "https://localhost:8080/"
        }
      },
      "source": [
        "class nodo:\n",
        "\n",
        "    def __init__(self,dato):\n",
        "        self._dato= dato\n",
        "        self._siguiente = None\n",
        "    def get_dato(self):\n",
        "        return self._dato\n",
        "    def set_dato(self,d):\n",
        "        self._dato = d\n",
        "    def get_siguiente(self):\n",
        "        return self._siguiente\n",
        "    def set_siguiente(self,d):\n",
        "        self._siguiente = d\n",
        "    def show(self):\n",
        "        curr_node = self  # Head\n",
        "        print(\" Inicio de la estructura ligada:\")\n",
        "        print(\"|\" + str(curr_node.get_dato()) + \"| -->\", end=\"\")\n",
        "        while (curr_node.get_siguiente() != None):\n",
        "            curr_node = curr_node.get_siguiente()\n",
        "            print(\"|\" + str(curr_node.get_dato()) + \"| -->\", end=\"\")\n",
        "        print(\"\\nFin\")\n",
        "\n",
        "#ejemplo1\n",
        "a = nodo(10)\n",
        "a.show()\n",
        "\n",
        "#ejemplo2\n",
        "a.set_siguiente(nodo(20))\n",
        "a.show()\n",
        "\n",
        "#ejemplo3\n",
        "a.get_siguiente().set_siguiente(nodo(30))\n",
        "a.show()\n",
        "\n",
        "#ejemplo4\n",
        "a.get_siguiente().get_siguiente().set_siguiente(nodo(40))\n",
        "a.show()\n",
        "\n",
        "#ejemplo5\n",
        "a.get_siguiente().get_siguiente().get_siguiente().set_siguiente(nodo(50))\n",
        "a.show()\n",
        "\n",
        "#ejemplo6\n",
        "a.set_dato(12)\n",
        "a.show()\n",
        "\n",
        "#ejemplo7\n",
        "a.get_siguiente().get_siguiente().get_siguiente().set_dato(45)\n",
        "a.show()\n",
        "\n",
        "#ejemplo8\n",
        "a.get_siguiente().get_siguiente().get_siguiente().get_siguiente().set_siguiente(nodo(60))\n",
        "\n",
        "#ejemplo9\n",
        "a.get_siguiente().set_dato(25)\n",
        "a.show()"
      ],
      "execution_count": 24,
      "outputs": [
        {
          "output_type": "stream",
          "text": [
            " Inicio de la estructura ligada:\n",
            "|10| -->\n",
            "Fin\n",
            " Inicio de la estructura ligada:\n",
            "|10| -->|20| -->\n",
            "Fin\n",
            " Inicio de la estructura ligada:\n",
            "|10| -->|20| -->|30| -->\n",
            "Fin\n",
            " Inicio de la estructura ligada:\n",
            "|10| -->|20| -->|30| -->|40| -->\n",
            "Fin\n",
            " Inicio de la estructura ligada:\n",
            "|10| -->|20| -->|30| -->|40| -->|50| -->\n",
            "Fin\n",
            " Inicio de la estructura ligada:\n",
            "|12| -->|20| -->|30| -->|40| -->|50| -->\n",
            "Fin\n",
            " Inicio de la estructura ligada:\n",
            "|12| -->|20| -->|30| -->|45| -->|50| -->\n",
            "Fin\n",
            " Inicio de la estructura ligada:\n",
            "|12| -->|25| -->|30| -->|45| -->|50| -->|60| -->\n",
            "Fin\n"
          ],
          "name": "stdout"
        }
      ]
    },
    {
      "cell_type": "markdown",
      "metadata": {
        "id": "jKpqUZ39Qnlq"
      },
      "source": [
        "- Sin encapsulamiento"
      ]
    },
    {
      "cell_type": "code",
      "metadata": {
        "id": "gKlRs5KwOIgm",
        "outputId": "61bff72d-74b2-4ebc-a308-b8a0057036f4",
        "colab": {
          "base_uri": "https://localhost:8080/"
        }
      },
      "source": [
        "class nodo:\n",
        "\n",
        "    def __init__(self,dato):\n",
        "        self.dato= dato\n",
        "        self.siguiente = None\n",
        "\n",
        "#Ejemplo 1\n",
        "a=nodo(10)\n",
        "print(a.dato)\n",
        "print(a.siguiente)\n",
        "\n",
        "#Ejemplo 2\n",
        "a.siguiente = nodo(20)\n",
        "\n",
        "#ejemplo 3\n",
        "a.siguiente.siguiente = nodo(30)\n",
        "\n",
        "#ejemplo 4\n",
        "a.siguiente.siguiente.siguiente = nodo(40)\n",
        "\n",
        "#ejemplo 5\n",
        "a.siguiente.siguiente.siguiente.siguiente = nodo(50)\n",
        "\n",
        "#Recorrido transversal\n",
        "curr_nodo = a \n",
        "print(curr_nodo.dato,\"---> \",end=\"\")\n",
        "while curr_nodo.siguiente != None:\n",
        "  curr_nodo = curr_nodo.siguiente\n",
        "  print(curr_nodo.dato,\"---> \",end=\"\")\n",
        "print(\"\")\n",
        "\n",
        "#ejemplo 6\n",
        "a.siguiente.siguiente.siguiente.dato=45\n",
        "\n",
        "#ejemplo 7\n",
        "a.siguiente.siguiente.dato=35\n",
        "\n",
        "#ejemplo 8\n",
        "a.siguiente.siguiente = a.siguiente.siguiente.siguiente\n",
        "\n",
        "#ejemplo 9\n",
        "a.siguiente = a.siguiente.siguiente.siguiente.siguiente\n",
        "\n",
        "curr_nodo = a \n",
        "print(curr_nodo.dato,\"---> \",end=\"\")\n",
        "while curr_nodo.siguiente != None:\n",
        "  curr_nodo = curr_nodo.siguiente\n",
        "  print(curr_nodo.dato,\"---> \",end=\"\")\n",
        "print(\"\")\n"
      ],
      "execution_count": 44,
      "outputs": [
        {
          "output_type": "stream",
          "text": [
            "10\n",
            "None\n",
            "10 ---> 20 ---> 30 ---> 40 ---> 50 ---> \n",
            "10 ---> \n"
          ],
          "name": "stdout"
        }
      ]
    }
  ]
}