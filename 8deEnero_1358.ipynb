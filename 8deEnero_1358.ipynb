{
  "nbformat": 4,
  "nbformat_minor": 0,
  "metadata": {
    "colab": {
      "name": "8deEnero_1358.ipynb",
      "provenance": [],
      "authorship_tag": "ABX9TyOj2HTx5IrXuaQrQT9xfa8u",
      "include_colab_link": true
    },
    "kernelspec": {
      "name": "python3",
      "display_name": "Python 3"
    }
  },
  "cells": [
    {
      "cell_type": "markdown",
      "metadata": {
        "id": "view-in-github",
        "colab_type": "text"
      },
      "source": [
        "<a href=\"https://colab.research.google.com/github/CarlosMelendezMejia/edd_1358_2021/blob/master/8deEnero_1358.ipynb\" target=\"_parent\"><img src=\"https://colab.research.google.com/assets/colab-badge.svg\" alt=\"Open In Colab\"/></a>"
      ]
    },
    {
      "cell_type": "code",
      "metadata": {
        "id": "TWulbatN5QEN"
      },
      "source": [
        "class Queue:\n",
        "    def __init__(self):\n",
        "        self.__data = list()\n",
        "\n",
        "    def is_empty(self):\n",
        "        return len(self.__data) == 0\n",
        "\n",
        "    def length(self):\n",
        "        return len(self.__data)\n",
        "\n",
        "    def enqueue(self, item):\n",
        "        self.__data.append(item)\n",
        "\n",
        "    def dequeue(self):\n",
        "        if not self.is_empty():\n",
        "            return self.__data.pop(0)\n",
        "        else:\n",
        "            return None\n",
        "\n",
        "    def to_String(self):\n",
        "        cadena = \"\"\n",
        "        for elem in self.__data:\n",
        "            cadena = cadena + \"| \"+elem\n",
        "        cadena = cadena+\" |\"\n",
        "        return cadena"
      ],
      "execution_count": 2,
      "outputs": []
    },
    {
      "cell_type": "code",
      "metadata": {
        "id": "Exjqxaz85S27"
      },
      "source": [
        "class BoundedPriorityQueue:\n",
        "    def __init__(self,niveles):\n",
        "        self.__data = [Queue() for x in range(niveles)]\n",
        "        self.__size = 0\n",
        "\n",
        "    def is_empty (self):\n",
        "        return self.__size == 0\n",
        "\n",
        "    def length (self):\n",
        "        return self.__size\n",
        "\n",
        "    def enqueue (self, prioridad, elem):\n",
        "        if prioridad < len(self.__data) and prioridad >= 0:\n",
        "            self.__data[prioridad].enqueue(elem)\n",
        "            self.__size += 1\n",
        "        else:\n",
        "            print(\"Prioridad fuera de rango.\")\n",
        "\n",
        "    def dequeue(self):\n",
        "        if not self.is_empty():\n",
        "            nivel = 0\n",
        "            while self.__data[nivel].is_empty():\n",
        "                nivel += 1\n",
        "            return self.__data[nivel].dequeue()\n",
        "\n",
        "    def to_String(self):\n",
        "        for nivel in range(len(self.__data)):\n",
        "            print(f\"Nivel {nivel} --> {self.__data[nivel].to_String()}\")\n"
      ],
      "execution_count": 3,
      "outputs": []
    },
    {
      "cell_type": "code",
      "metadata": {
        "colab": {
          "base_uri": "https://localhost:8080/"
        },
        "id": "odw7yGO55W7v",
        "outputId": "59eeff8f-24cf-49f6-a071-3ebd56d54317"
      },
      "source": [
        "cpa = BoundedPriorityQueue(5)\n",
        "\"\"\"\n",
        "prioridad         nombres\n",
        "2                 Diana\n",
        "3                 Santiago\n",
        "0                 Roberto\n",
        "0                 Pedro\n",
        "2                 Maria\n",
        "3                 Jose\n",
        "4                 Mayra\n",
        "4                 Elena\n",
        "\"\"\"\n",
        "cpa.enqueue(2,\"Diana\")\n",
        "cpa.enqueue(3,\"Santiago\")\n",
        "cpa.enqueue(0,\"Roberto\")\n",
        "cpa.enqueue(0,\"Pedro\")\n",
        "cpa.enqueue(2,\"Maria\")\n",
        "cpa.enqueue(3,\"Jose\")\n",
        "cpa.enqueue(4,\"Mayra\")\n",
        "cpa.enqueue(4,\"Elena\")\n",
        "cpa.to_String()\n",
        "\n",
        "siguiente = cpa.dequeue()\n",
        "print(siguiente)\n",
        "\n",
        "cpa.to_String()"
      ],
      "execution_count": 4,
      "outputs": [
        {
          "output_type": "stream",
          "text": [
            "Nivel 0 --> | Roberto| Pedro |\n",
            "Nivel 1 -->  |\n",
            "Nivel 2 --> | Diana| Maria |\n",
            "Nivel 3 --> | Santiago| Jose |\n",
            "Nivel 4 --> | Mayra| Elena |\n"
          ],
          "name": "stdout"
        }
      ]
    }
  ]
}